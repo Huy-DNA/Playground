{
  "cells": [
    {
      "cell_type": "code",
      "source": [
        "from google.colab import drive\n",
        "drive.mount('/content/drive')"
      ],
      "metadata": {
        "colab": {
          "base_uri": "https://localhost:8080/"
        },
        "id": "ANFLVrWdT4Wg",
        "outputId": "ca54e659-6bc3-49eb-e479-bb9afee1c2a1"
      },
      "execution_count": 3,
      "outputs": [
        {
          "output_type": "stream",
          "name": "stdout",
          "text": [
            "Mounted at /content/drive\n"
          ]
        }
      ]
    },
    {
      "cell_type": "code",
      "execution_count": 1,
      "metadata": {
        "id": "XVnXW7VgToQJ"
      },
      "outputs": [],
      "source": [
        "import pandas as pd\n",
        "import numpy as np\n",
        "import matplotlib.pyplot as plt\n",
        "import seaborn as sns\n",
        "import tensorflow as tf"
      ]
    },
    {
      "cell_type": "code",
      "execution_count": 2,
      "metadata": {
        "id": "ZcQ45E8CToQN"
      },
      "outputs": [],
      "source": [
        "h = 0.001     # time step\n",
        "R_0 = -2.0    # initial value of R\n",
        "J_0 = 3.0     # initial value of J\n",
        "n = 1000      # number of data points"
      ]
    },
    {
      "cell_type": "markdown",
      "metadata": {
        "id": "Gazj3v56ToQO"
      },
      "source": [
        "## Data import"
      ]
    },
    {
      "cell_type": "code",
      "execution_count": 4,
      "metadata": {
        "colab": {
          "base_uri": "https://localhost:8080/",
          "height": 206
        },
        "id": "vHpMVGfjToQQ",
        "outputId": "c77963a8-f3b5-4c1f-91d6-574ba191d370"
      },
      "outputs": [
        {
          "output_type": "execute_result",
          "data": {
            "text/plain": [
              "   Step             R            J\n",
              "0     0  -1,678969244  3,635587444\n",
              "1     1  -1,331199653  1,092044203\n",
              "2     2  -3,262655098    2,6063602\n",
              "3     3  0,7475997113  2,653502669\n",
              "4     4  -2,595587134  2,486162931"
            ],
            "text/html": [
              "\n",
              "  <div id=\"df-00900d69-1b94-40c3-b6e9-072c8cbfc1a6\">\n",
              "    <div class=\"colab-df-container\">\n",
              "      <div>\n",
              "<style scoped>\n",
              "    .dataframe tbody tr th:only-of-type {\n",
              "        vertical-align: middle;\n",
              "    }\n",
              "\n",
              "    .dataframe tbody tr th {\n",
              "        vertical-align: top;\n",
              "    }\n",
              "\n",
              "    .dataframe thead th {\n",
              "        text-align: right;\n",
              "    }\n",
              "</style>\n",
              "<table border=\"1\" class=\"dataframe\">\n",
              "  <thead>\n",
              "    <tr style=\"text-align: right;\">\n",
              "      <th></th>\n",
              "      <th>Step</th>\n",
              "      <th>R</th>\n",
              "      <th>J</th>\n",
              "    </tr>\n",
              "  </thead>\n",
              "  <tbody>\n",
              "    <tr>\n",
              "      <th>0</th>\n",
              "      <td>0</td>\n",
              "      <td>-1,678969244</td>\n",
              "      <td>3,635587444</td>\n",
              "    </tr>\n",
              "    <tr>\n",
              "      <th>1</th>\n",
              "      <td>1</td>\n",
              "      <td>-1,331199653</td>\n",
              "      <td>1,092044203</td>\n",
              "    </tr>\n",
              "    <tr>\n",
              "      <th>2</th>\n",
              "      <td>2</td>\n",
              "      <td>-3,262655098</td>\n",
              "      <td>2,6063602</td>\n",
              "    </tr>\n",
              "    <tr>\n",
              "      <th>3</th>\n",
              "      <td>3</td>\n",
              "      <td>0,7475997113</td>\n",
              "      <td>2,653502669</td>\n",
              "    </tr>\n",
              "    <tr>\n",
              "      <th>4</th>\n",
              "      <td>4</td>\n",
              "      <td>-2,595587134</td>\n",
              "      <td>2,486162931</td>\n",
              "    </tr>\n",
              "  </tbody>\n",
              "</table>\n",
              "</div>\n",
              "      <button class=\"colab-df-convert\" onclick=\"convertToInteractive('df-00900d69-1b94-40c3-b6e9-072c8cbfc1a6')\"\n",
              "              title=\"Convert this dataframe to an interactive table.\"\n",
              "              style=\"display:none;\">\n",
              "        \n",
              "  <svg xmlns=\"http://www.w3.org/2000/svg\" height=\"24px\"viewBox=\"0 0 24 24\"\n",
              "       width=\"24px\">\n",
              "    <path d=\"M0 0h24v24H0V0z\" fill=\"none\"/>\n",
              "    <path d=\"M18.56 5.44l.94 2.06.94-2.06 2.06-.94-2.06-.94-.94-2.06-.94 2.06-2.06.94zm-11 1L8.5 8.5l.94-2.06 2.06-.94-2.06-.94L8.5 2.5l-.94 2.06-2.06.94zm10 10l.94 2.06.94-2.06 2.06-.94-2.06-.94-.94-2.06-.94 2.06-2.06.94z\"/><path d=\"M17.41 7.96l-1.37-1.37c-.4-.4-.92-.59-1.43-.59-.52 0-1.04.2-1.43.59L10.3 9.45l-7.72 7.72c-.78.78-.78 2.05 0 2.83L4 21.41c.39.39.9.59 1.41.59.51 0 1.02-.2 1.41-.59l7.78-7.78 2.81-2.81c.8-.78.8-2.07 0-2.86zM5.41 20L4 18.59l7.72-7.72 1.47 1.35L5.41 20z\"/>\n",
              "  </svg>\n",
              "      </button>\n",
              "      \n",
              "  <style>\n",
              "    .colab-df-container {\n",
              "      display:flex;\n",
              "      flex-wrap:wrap;\n",
              "      gap: 12px;\n",
              "    }\n",
              "\n",
              "    .colab-df-convert {\n",
              "      background-color: #E8F0FE;\n",
              "      border: none;\n",
              "      border-radius: 50%;\n",
              "      cursor: pointer;\n",
              "      display: none;\n",
              "      fill: #1967D2;\n",
              "      height: 32px;\n",
              "      padding: 0 0 0 0;\n",
              "      width: 32px;\n",
              "    }\n",
              "\n",
              "    .colab-df-convert:hover {\n",
              "      background-color: #E2EBFA;\n",
              "      box-shadow: 0px 1px 2px rgba(60, 64, 67, 0.3), 0px 1px 3px 1px rgba(60, 64, 67, 0.15);\n",
              "      fill: #174EA6;\n",
              "    }\n",
              "\n",
              "    [theme=dark] .colab-df-convert {\n",
              "      background-color: #3B4455;\n",
              "      fill: #D2E3FC;\n",
              "    }\n",
              "\n",
              "    [theme=dark] .colab-df-convert:hover {\n",
              "      background-color: #434B5C;\n",
              "      box-shadow: 0px 1px 3px 1px rgba(0, 0, 0, 0.15);\n",
              "      filter: drop-shadow(0px 1px 2px rgba(0, 0, 0, 0.3));\n",
              "      fill: #FFFFFF;\n",
              "    }\n",
              "  </style>\n",
              "\n",
              "      <script>\n",
              "        const buttonEl =\n",
              "          document.querySelector('#df-00900d69-1b94-40c3-b6e9-072c8cbfc1a6 button.colab-df-convert');\n",
              "        buttonEl.style.display =\n",
              "          google.colab.kernel.accessAllowed ? 'block' : 'none';\n",
              "\n",
              "        async function convertToInteractive(key) {\n",
              "          const element = document.querySelector('#df-00900d69-1b94-40c3-b6e9-072c8cbfc1a6');\n",
              "          const dataTable =\n",
              "            await google.colab.kernel.invokeFunction('convertToInteractive',\n",
              "                                                     [key], {});\n",
              "          if (!dataTable) return;\n",
              "\n",
              "          const docLinkHtml = 'Like what you see? Visit the ' +\n",
              "            '<a target=\"_blank\" href=https://colab.research.google.com/notebooks/data_table.ipynb>data table notebook</a>'\n",
              "            + ' to learn more about interactive tables.';\n",
              "          element.innerHTML = '';\n",
              "          dataTable['output_type'] = 'display_data';\n",
              "          await google.colab.output.renderOutput(dataTable, element);\n",
              "          const docLink = document.createElement('div');\n",
              "          docLink.innerHTML = docLinkHtml;\n",
              "          element.appendChild(docLink);\n",
              "        }\n",
              "      </script>\n",
              "    </div>\n",
              "  </div>\n",
              "  "
            ]
          },
          "metadata": {},
          "execution_count": 4
        }
      ],
      "source": [
        "data = pd.read_csv(\"/content/drive/MyDrive/exact.csv\")\n",
        "data.columns = [\"Step\", \"R\", \"J\"]\n",
        "data.head()"
      ]
    },
    {
      "cell_type": "code",
      "execution_count": 5,
      "metadata": {
        "colab": {
          "base_uri": "https://localhost:8080/"
        },
        "id": "ZMBb7RjqToQR",
        "outputId": "6786691d-22a2-46f0-d242-3b6f61b49134"
      },
      "outputs": [
        {
          "output_type": "execute_result",
          "data": {
            "text/plain": [
              "Step     int64\n",
              "R       object\n",
              "J       object\n",
              "dtype: object"
            ]
          },
          "metadata": {},
          "execution_count": 5
        }
      ],
      "source": [
        "data.dtypes"
      ]
    },
    {
      "cell_type": "code",
      "execution_count": 6,
      "metadata": {
        "id": "Vk9ZsLnNToQS"
      },
      "outputs": [],
      "source": [
        "# convert R and J to float\n",
        "data[\"R\"] = data[\"R\"].str.replace(',', '.').astype('float')\n",
        "data[\"J\"] = data[\"J\"].str.replace(',', '.').astype('float')"
      ]
    },
    {
      "cell_type": "code",
      "execution_count": 7,
      "metadata": {
        "id": "MArB-nHQToQS"
      },
      "outputs": [],
      "source": [
        "# adjust the step\n",
        "data[\"Step\"] += 1"
      ]
    },
    {
      "cell_type": "code",
      "execution_count": 8,
      "metadata": {
        "colab": {
          "base_uri": "https://localhost:8080/",
          "height": 363
        },
        "id": "OUaFlA8rToQT",
        "outputId": "8f2023cc-357c-4b99-edd6-a02f1dd9a794"
      },
      "outputs": [
        {
          "output_type": "execute_result",
          "data": {
            "text/plain": [
              "   Step         R         J\n",
              "0     1 -1.678969  3.635587\n",
              "1     2 -1.331200  1.092044\n",
              "2     3 -3.262655  2.606360\n",
              "3     4  0.747600  2.653503\n",
              "4     5 -2.595587  2.486163\n",
              "5     6 -2.206740  2.309700\n",
              "6     7 -1.319781  4.438445\n",
              "7     8 -1.789069  3.480226\n",
              "8     9 -4.806522  1.821735\n",
              "9    10 -1.434671  2.193432"
            ],
            "text/html": [
              "\n",
              "  <div id=\"df-152a201b-3c2b-4b79-b103-f7ef7ba3d03c\">\n",
              "    <div class=\"colab-df-container\">\n",
              "      <div>\n",
              "<style scoped>\n",
              "    .dataframe tbody tr th:only-of-type {\n",
              "        vertical-align: middle;\n",
              "    }\n",
              "\n",
              "    .dataframe tbody tr th {\n",
              "        vertical-align: top;\n",
              "    }\n",
              "\n",
              "    .dataframe thead th {\n",
              "        text-align: right;\n",
              "    }\n",
              "</style>\n",
              "<table border=\"1\" class=\"dataframe\">\n",
              "  <thead>\n",
              "    <tr style=\"text-align: right;\">\n",
              "      <th></th>\n",
              "      <th>Step</th>\n",
              "      <th>R</th>\n",
              "      <th>J</th>\n",
              "    </tr>\n",
              "  </thead>\n",
              "  <tbody>\n",
              "    <tr>\n",
              "      <th>0</th>\n",
              "      <td>1</td>\n",
              "      <td>-1.678969</td>\n",
              "      <td>3.635587</td>\n",
              "    </tr>\n",
              "    <tr>\n",
              "      <th>1</th>\n",
              "      <td>2</td>\n",
              "      <td>-1.331200</td>\n",
              "      <td>1.092044</td>\n",
              "    </tr>\n",
              "    <tr>\n",
              "      <th>2</th>\n",
              "      <td>3</td>\n",
              "      <td>-3.262655</td>\n",
              "      <td>2.606360</td>\n",
              "    </tr>\n",
              "    <tr>\n",
              "      <th>3</th>\n",
              "      <td>4</td>\n",
              "      <td>0.747600</td>\n",
              "      <td>2.653503</td>\n",
              "    </tr>\n",
              "    <tr>\n",
              "      <th>4</th>\n",
              "      <td>5</td>\n",
              "      <td>-2.595587</td>\n",
              "      <td>2.486163</td>\n",
              "    </tr>\n",
              "    <tr>\n",
              "      <th>5</th>\n",
              "      <td>6</td>\n",
              "      <td>-2.206740</td>\n",
              "      <td>2.309700</td>\n",
              "    </tr>\n",
              "    <tr>\n",
              "      <th>6</th>\n",
              "      <td>7</td>\n",
              "      <td>-1.319781</td>\n",
              "      <td>4.438445</td>\n",
              "    </tr>\n",
              "    <tr>\n",
              "      <th>7</th>\n",
              "      <td>8</td>\n",
              "      <td>-1.789069</td>\n",
              "      <td>3.480226</td>\n",
              "    </tr>\n",
              "    <tr>\n",
              "      <th>8</th>\n",
              "      <td>9</td>\n",
              "      <td>-4.806522</td>\n",
              "      <td>1.821735</td>\n",
              "    </tr>\n",
              "    <tr>\n",
              "      <th>9</th>\n",
              "      <td>10</td>\n",
              "      <td>-1.434671</td>\n",
              "      <td>2.193432</td>\n",
              "    </tr>\n",
              "  </tbody>\n",
              "</table>\n",
              "</div>\n",
              "      <button class=\"colab-df-convert\" onclick=\"convertToInteractive('df-152a201b-3c2b-4b79-b103-f7ef7ba3d03c')\"\n",
              "              title=\"Convert this dataframe to an interactive table.\"\n",
              "              style=\"display:none;\">\n",
              "        \n",
              "  <svg xmlns=\"http://www.w3.org/2000/svg\" height=\"24px\"viewBox=\"0 0 24 24\"\n",
              "       width=\"24px\">\n",
              "    <path d=\"M0 0h24v24H0V0z\" fill=\"none\"/>\n",
              "    <path d=\"M18.56 5.44l.94 2.06.94-2.06 2.06-.94-2.06-.94-.94-2.06-.94 2.06-2.06.94zm-11 1L8.5 8.5l.94-2.06 2.06-.94-2.06-.94L8.5 2.5l-.94 2.06-2.06.94zm10 10l.94 2.06.94-2.06 2.06-.94-2.06-.94-.94-2.06-.94 2.06-2.06.94z\"/><path d=\"M17.41 7.96l-1.37-1.37c-.4-.4-.92-.59-1.43-.59-.52 0-1.04.2-1.43.59L10.3 9.45l-7.72 7.72c-.78.78-.78 2.05 0 2.83L4 21.41c.39.39.9.59 1.41.59.51 0 1.02-.2 1.41-.59l7.78-7.78 2.81-2.81c.8-.78.8-2.07 0-2.86zM5.41 20L4 18.59l7.72-7.72 1.47 1.35L5.41 20z\"/>\n",
              "  </svg>\n",
              "      </button>\n",
              "      \n",
              "  <style>\n",
              "    .colab-df-container {\n",
              "      display:flex;\n",
              "      flex-wrap:wrap;\n",
              "      gap: 12px;\n",
              "    }\n",
              "\n",
              "    .colab-df-convert {\n",
              "      background-color: #E8F0FE;\n",
              "      border: none;\n",
              "      border-radius: 50%;\n",
              "      cursor: pointer;\n",
              "      display: none;\n",
              "      fill: #1967D2;\n",
              "      height: 32px;\n",
              "      padding: 0 0 0 0;\n",
              "      width: 32px;\n",
              "    }\n",
              "\n",
              "    .colab-df-convert:hover {\n",
              "      background-color: #E2EBFA;\n",
              "      box-shadow: 0px 1px 2px rgba(60, 64, 67, 0.3), 0px 1px 3px 1px rgba(60, 64, 67, 0.15);\n",
              "      fill: #174EA6;\n",
              "    }\n",
              "\n",
              "    [theme=dark] .colab-df-convert {\n",
              "      background-color: #3B4455;\n",
              "      fill: #D2E3FC;\n",
              "    }\n",
              "\n",
              "    [theme=dark] .colab-df-convert:hover {\n",
              "      background-color: #434B5C;\n",
              "      box-shadow: 0px 1px 3px 1px rgba(0, 0, 0, 0.15);\n",
              "      filter: drop-shadow(0px 1px 2px rgba(0, 0, 0, 0.3));\n",
              "      fill: #FFFFFF;\n",
              "    }\n",
              "  </style>\n",
              "\n",
              "      <script>\n",
              "        const buttonEl =\n",
              "          document.querySelector('#df-152a201b-3c2b-4b79-b103-f7ef7ba3d03c button.colab-df-convert');\n",
              "        buttonEl.style.display =\n",
              "          google.colab.kernel.accessAllowed ? 'block' : 'none';\n",
              "\n",
              "        async function convertToInteractive(key) {\n",
              "          const element = document.querySelector('#df-152a201b-3c2b-4b79-b103-f7ef7ba3d03c');\n",
              "          const dataTable =\n",
              "            await google.colab.kernel.invokeFunction('convertToInteractive',\n",
              "                                                     [key], {});\n",
              "          if (!dataTable) return;\n",
              "\n",
              "          const docLinkHtml = 'Like what you see? Visit the ' +\n",
              "            '<a target=\"_blank\" href=https://colab.research.google.com/notebooks/data_table.ipynb>data table notebook</a>'\n",
              "            + ' to learn more about interactive tables.';\n",
              "          element.innerHTML = '';\n",
              "          dataTable['output_type'] = 'display_data';\n",
              "          await google.colab.output.renderOutput(dataTable, element);\n",
              "          const docLink = document.createElement('div');\n",
              "          docLink.innerHTML = docLinkHtml;\n",
              "          element.appendChild(docLink);\n",
              "        }\n",
              "      </script>\n",
              "    </div>\n",
              "  </div>\n",
              "  "
            ]
          },
          "metadata": {},
          "execution_count": 8
        }
      ],
      "source": [
        "data.head(10)"
      ]
    },
    {
      "cell_type": "markdown",
      "metadata": {
        "id": "cv2S0VVFToQT"
      },
      "source": [
        "## Data visualization"
      ]
    },
    {
      "cell_type": "code",
      "execution_count": 9,
      "metadata": {
        "colab": {
          "base_uri": "https://localhost:8080/",
          "height": 312
        },
        "id": "SeCFLHbiToQT",
        "outputId": "61712372-b5a7-4e07-8fe0-d97611e1ccb8"
      },
      "outputs": [
        {
          "output_type": "execute_result",
          "data": {
            "text/plain": [
              "Text(0, 0.5, 'Love')"
            ]
          },
          "metadata": {},
          "execution_count": 9
        },
        {
          "output_type": "display_data",
          "data": {
            "text/plain": [
              "<Figure size 432x288 with 1 Axes>"
            ],
            "image/png": "[encoded data removed]"
          },
          "metadata": {
            "needs_background": "light"
          }
        }
      ],
      "source": [
        "# Plotting Romeo's love\n",
        "sns.scatterplot(x = data[\"Step\"] * 0.001, y = data[\"R\"])\n",
        "plt.title(\"Romeo's love for Juliet over time\")\n",
        "plt.xlabel(\"Time\")\n",
        "plt.ylabel(\"Love\")"
      ]
    },
    {
      "cell_type": "code",
      "execution_count": 10,
      "metadata": {
        "colab": {
          "base_uri": "https://localhost:8080/",
          "height": 312
        },
        "id": "Ew7lC2dcToQU",
        "outputId": "782efa47-d48d-420b-e119-d2ba9a299545"
      },
      "outputs": [
        {
          "output_type": "execute_result",
          "data": {
            "text/plain": [
              "Text(0, 0.5, 'Love')"
            ]
          },
          "metadata": {},
          "execution_count": 10
        },
        {
          "output_type": "display_data",
          "data": {
            "text/plain": [
              "<Figure size 432x288 with 1 Axes>"
            ],
            "image/png": "[encoded data removed]"
          },
          "metadata": {
            "needs_background": "light"
          }
        }
      ],
      "source": [
        "# Plotting Juliet's love\n",
        "sns.scatterplot(x = data[\"Step\"] * 0.001, y = data[\"J\"], color = \"red\")\n",
        "plt.title(\"Juliet's love for Romeo over time\")\n",
        "plt.xlabel(\"Time\")\n",
        "plt.ylabel(\"Love\")"
      ]
    },
    {
      "cell_type": "markdown",
      "metadata": {
        "id": "tp6NPYEpToQU"
      },
      "source": [
        "## Model building"
      ]
    },
    {
      "cell_type": "code",
      "execution_count": 67,
      "metadata": {
        "id": "00iB27BMToQV"
      },
      "outputs": [],
      "source": [
        "# Convert to true values to tensor\n",
        "true_values = tf.convert_to_tensor(data[[\"R\", \"J\"]], dtype=float)"
      ]
    },
    {
      "cell_type": "code",
      "execution_count": 68,
      "metadata": {
        "colab": {
          "base_uri": "https://localhost:8080/"
        },
        "id": "jjHNROMJToQV",
        "outputId": "9688dc44-5e34-4411-9d4b-fd7aa0da1cbd"
      },
      "outputs": [
        {
          "output_type": "execute_result",
          "data": {
            "text/plain": [
              "<tf.Variable 'Variable:0' shape=(2, 2) dtype=float32, numpy=\n",
              "array([[ 1.5308573 ,  0.695275  ],\n",
              "       [-1.3508402 , -0.32814068]], dtype=float32)>"
            ]
          },
          "metadata": {},
          "execution_count": 68
        }
      ],
      "source": [
        "# Variable definition\n",
        "## [[a, b],\n",
        "##  [c, d]]\n",
        "coefs = tf.Variable(tf.random.normal([2, 2]))\n",
        "coefs"
      ]
    },
    {
      "cell_type": "code",
      "execution_count": 69,
      "metadata": {
        "id": "2hRag7E0ToQV"
      },
      "outputs": [],
      "source": [
        "# Hyperparameters\n",
        "learning_rate = 0.01\n",
        "iterations = 500"
      ]
    },
    {
      "cell_type": "code",
      "execution_count": 70,
      "metadata": {
        "id": "wOUD4z_eToQV"
      },
      "outputs": [],
      "source": [
        "# Euler method\n",
        "eye = tf.constant([[1, 0], [0, 1]], dtype = float)\n",
        "\n",
        "## prev is a vector of the form [R_n-1, J_n-1]\n",
        "## returns [R_n, J_n]\n",
        "def eulerApproxNext(prev, coefs, h):\n",
        "    return tf.reduce_sum(prev * (coefs * h + eye), 1)"
      ]
    },
    {
      "cell_type": "code",
      "execution_count": 71,
      "metadata": {
        "colab": {
          "base_uri": "https://localhost:8080/"
        },
        "id": "EH67HfteToQW",
        "outputId": "e9423608-a366-4b32-cbe0-9d1eaacd717c"
      },
      "outputs": [
        {
          "output_type": "stream",
          "name": "stdout",
          "text": [
            "Iteration 0\n",
            "Iteration 1\n",
            "Iteration 2\n",
            "Iteration 3\n",
            "Iteration 4\n",
            "Iteration 5\n",
            "Iteration 6\n",
            "Iteration 7\n",
            "Iteration 8\n",
            "Iteration 9\n",
            "Iteration 10\n",
            "Iteration 11\n",
            "Iteration 12\n",
            "Iteration 13\n",
            "Iteration 14\n",
            "Iteration 15\n",
            "Iteration 16\n",
            "Iteration 17\n",
            "Iteration 18\n",
            "Iteration 19\n",
            "Iteration 20\n",
            "Iteration 21\n",
            "Iteration 22\n",
            "Iteration 23\n",
            "Iteration 24\n",
            "Iteration 25\n",
            "Iteration 26\n",
            "Iteration 27\n",
            "Iteration 28\n",
            "Iteration 29\n",
            "Iteration 30\n",
            "Iteration 31\n",
            "Iteration 32\n",
            "Iteration 33\n",
            "Iteration 34\n",
            "Iteration 35\n",
            "Iteration 36\n",
            "Iteration 37\n",
            "Iteration 38\n",
            "Iteration 39\n",
            "Iteration 40\n",
            "Iteration 41\n",
            "Iteration 42\n",
            "Iteration 43\n",
            "Iteration 44\n",
            "Iteration 45\n",
            "Iteration 46\n",
            "Iteration 47\n",
            "Iteration 48\n",
            "Iteration 49\n",
            "Iteration 50\n",
            "Iteration 51\n",
            "Iteration 52\n",
            "Iteration 53\n",
            "Iteration 54\n",
            "Iteration 55\n",
            "Iteration 56\n",
            "Iteration 57\n",
            "Iteration 58\n",
            "Iteration 59\n",
            "Iteration 60\n",
            "Iteration 61\n",
            "Iteration 62\n",
            "Iteration 63\n",
            "Iteration 64\n",
            "Iteration 65\n",
            "Iteration 66\n",
            "Iteration 67\n",
            "Iteration 68\n",
            "Iteration 69\n",
            "Iteration 70\n",
            "Iteration 71\n",
            "Iteration 72\n",
            "Iteration 73\n",
            "Iteration 74\n",
            "Iteration 75\n",
            "Iteration 76\n",
            "Iteration 77\n",
            "Iteration 78\n",
            "Iteration 79\n",
            "Iteration 80\n",
            "Iteration 81\n",
            "Iteration 82\n",
            "Iteration 83\n",
            "Iteration 84\n",
            "Iteration 85\n",
            "Iteration 86\n",
            "Iteration 87\n",
            "Iteration 88\n",
            "Iteration 89\n",
            "Iteration 90\n",
            "Iteration 91\n",
            "Iteration 92\n",
            "Iteration 93\n",
            "Iteration 94\n",
            "Iteration 95\n",
            "Iteration 96\n",
            "Iteration 97\n",
            "Iteration 98\n",
            "Iteration 99\n",
            "Iteration 100\n",
            "Iteration 101\n",
            "Iteration 102\n",
            "Iteration 103\n",
            "Iteration 104\n",
            "Iteration 105\n",
            "Iteration 106\n",
            "Iteration 107\n",
            "Iteration 108\n",
            "Iteration 109\n",
            "Iteration 110\n",
            "Iteration 111\n",
            "Iteration 112\n",
            "Iteration 113\n",
            "Iteration 114\n",
            "Iteration 115\n",
            "Iteration 116\n",
            "Iteration 117\n",
            "Iteration 118\n",
            "Iteration 119\n",
            "Iteration 120\n",
            "Iteration 121\n",
            "Iteration 122\n",
            "Iteration 123\n",
            "Iteration 124\n",
            "Iteration 125\n",
            "Iteration 126\n",
            "Iteration 127\n",
            "Iteration 128\n",
            "Iteration 129\n",
            "Iteration 130\n",
            "Iteration 131\n",
            "Iteration 132\n",
            "Iteration 133\n",
            "Iteration 134\n",
            "Iteration 135\n",
            "Iteration 136\n",
            "Iteration 137\n",
            "Iteration 138\n",
            "Iteration 139\n",
            "Iteration 140\n",
            "Iteration 141\n",
            "Iteration 142\n",
            "Iteration 143\n",
            "Iteration 144\n",
            "Iteration 145\n",
            "Iteration 146\n",
            "Iteration 147\n",
            "Iteration 148\n",
            "Iteration 149\n",
            "Iteration 150\n",
            "Iteration 151\n",
            "Iteration 152\n",
            "Iteration 153\n",
            "Iteration 154\n",
            "Iteration 155\n",
            "Iteration 156\n",
            "Iteration 157\n",
            "Iteration 158\n",
            "Iteration 159\n",
            "Iteration 160\n",
            "Iteration 161\n",
            "Iteration 162\n",
            "Iteration 163\n",
            "Iteration 164\n",
            "Iteration 165\n",
            "Iteration 166\n",
            "Iteration 167\n",
            "Iteration 168\n",
            "Iteration 169\n",
            "Iteration 170\n",
            "Iteration 171\n",
            "Iteration 172\n",
            "Iteration 173\n",
            "Iteration 174\n",
            "Iteration 175\n",
            "Iteration 176\n",
            "Iteration 177\n",
            "Iteration 178\n",
            "Iteration 179\n",
            "Iteration 180\n",
            "Iteration 181\n",
            "Iteration 182\n",
            "Iteration 183\n",
            "Iteration 184\n",
            "Iteration 185\n",
            "Iteration 186\n",
            "Iteration 187\n",
            "Iteration 188\n",
            "Iteration 189\n",
            "Iteration 190\n",
            "Iteration 191\n",
            "Iteration 192\n",
            "Iteration 193\n",
            "Iteration 194\n",
            "Iteration 195\n",
            "Iteration 196\n",
            "Iteration 197\n",
            "Iteration 198\n",
            "Iteration 199\n",
            "Iteration 200\n",
            "Iteration 201\n",
            "Iteration 202\n",
            "Iteration 203\n",
            "Iteration 204\n",
            "Iteration 205\n",
            "Iteration 206\n",
            "Iteration 207\n",
            "Iteration 208\n",
            "Iteration 209\n",
            "Iteration 210\n",
            "Iteration 211\n",
            "Iteration 212\n",
            "Iteration 213\n",
            "Iteration 214\n",
            "Iteration 215\n",
            "Iteration 216\n",
            "Iteration 217\n",
            "Iteration 218\n",
            "Iteration 219\n",
            "Iteration 220\n",
            "Iteration 221\n",
            "Iteration 222\n",
            "Iteration 223\n",
            "Iteration 224\n",
            "Iteration 225\n",
            "Iteration 226\n",
            "Iteration 227\n",
            "Iteration 228\n",
            "Iteration 229\n",
            "Iteration 230\n",
            "Iteration 231\n",
            "Iteration 232\n",
            "Iteration 233\n",
            "Iteration 234\n",
            "Iteration 235\n",
            "Iteration 236\n",
            "Iteration 237\n",
            "Iteration 238\n",
            "Iteration 239\n",
            "Iteration 240\n",
            "Iteration 241\n",
            "Iteration 242\n",
            "Iteration 243\n",
            "Iteration 244\n",
            "Iteration 245\n",
            "Iteration 246\n",
            "Iteration 247\n",
            "Iteration 248\n",
            "Iteration 249\n",
            "Iteration 250\n",
            "Iteration 251\n",
            "Iteration 252\n",
            "Iteration 253\n",
            "Iteration 254\n",
            "Iteration 255\n",
            "Iteration 256\n",
            "Iteration 257\n",
            "Iteration 258\n",
            "Iteration 259\n",
            "Iteration 260\n",
            "Iteration 261\n",
            "Iteration 262\n",
            "Iteration 263\n",
            "Iteration 264\n",
            "Iteration 265\n",
            "Iteration 266\n",
            "Iteration 267\n",
            "Iteration 268\n",
            "Iteration 269\n",
            "Iteration 270\n",
            "Iteration 271\n",
            "Iteration 272\n",
            "Iteration 273\n",
            "Iteration 274\n",
            "Iteration 275\n",
            "Iteration 276\n",
            "Iteration 277\n",
            "Iteration 278\n",
            "Iteration 279\n",
            "Iteration 280\n",
            "Iteration 281\n",
            "Iteration 282\n",
            "Iteration 283\n",
            "Iteration 284\n",
            "Iteration 285\n",
            "Iteration 286\n",
            "Iteration 287\n",
            "Iteration 288\n",
            "Iteration 289\n",
            "Iteration 290\n",
            "Iteration 291\n",
            "Iteration 292\n",
            "Iteration 293\n",
            "Iteration 294\n",
            "Iteration 295\n",
            "Iteration 296\n",
            "Iteration 297\n",
            "Iteration 298\n",
            "Iteration 299\n",
            "Iteration 300\n",
            "Iteration 301\n",
            "Iteration 302\n",
            "Iteration 303\n",
            "Iteration 304\n",
            "Iteration 305\n",
            "Iteration 306\n",
            "Iteration 307\n",
            "Iteration 308\n",
            "Iteration 309\n",
            "Iteration 310\n",
            "Iteration 311\n",
            "Iteration 312\n",
            "Iteration 313\n",
            "Iteration 314\n",
            "Iteration 315\n",
            "Iteration 316\n",
            "Iteration 317\n",
            "Iteration 318\n",
            "Iteration 319\n",
            "Iteration 320\n",
            "Iteration 321\n",
            "Iteration 322\n",
            "Iteration 323\n",
            "Iteration 324\n",
            "Iteration 325\n",
            "Iteration 326\n",
            "Iteration 327\n",
            "Iteration 328\n",
            "Iteration 329\n",
            "Iteration 330\n",
            "Iteration 331\n",
            "Iteration 332\n",
            "Iteration 333\n",
            "Iteration 334\n",
            "Iteration 335\n",
            "Iteration 336\n",
            "Iteration 337\n",
            "Iteration 338\n",
            "Iteration 339\n",
            "Iteration 340\n",
            "Iteration 341\n",
            "Iteration 342\n",
            "Iteration 343\n",
            "Iteration 344\n",
            "Iteration 345\n",
            "Iteration 346\n",
            "Iteration 347\n",
            "Iteration 348\n",
            "Iteration 349\n",
            "Iteration 350\n",
            "Iteration 351\n",
            "Iteration 352\n",
            "Iteration 353\n",
            "Iteration 354\n",
            "Iteration 355\n",
            "Iteration 356\n",
            "Iteration 357\n",
            "Iteration 358\n",
            "Iteration 359\n",
            "Iteration 360\n",
            "Iteration 361\n",
            "Iteration 362\n",
            "Iteration 363\n",
            "Iteration 364\n",
            "Iteration 365\n",
            "Iteration 366\n",
            "Iteration 367\n",
            "Iteration 368\n",
            "Iteration 369\n",
            "Iteration 370\n",
            "Iteration 371\n",
            "Iteration 372\n",
            "Iteration 373\n",
            "Iteration 374\n",
            "Iteration 375\n",
            "Iteration 376\n",
            "Iteration 377\n",
            "Iteration 378\n",
            "Iteration 379\n",
            "Iteration 380\n",
            "Iteration 381\n",
            "Iteration 382\n",
            "Iteration 383\n",
            "Iteration 384\n",
            "Iteration 385\n",
            "Iteration 386\n",
            "Iteration 387\n",
            "Iteration 388\n",
            "Iteration 389\n",
            "Iteration 390\n",
            "Iteration 391\n",
            "Iteration 392\n",
            "Iteration 393\n",
            "Iteration 394\n",
            "Iteration 395\n",
            "Iteration 396\n",
            "Iteration 397\n",
            "Iteration 398\n",
            "Iteration 399\n",
            "Iteration 400\n",
            "Iteration 401\n",
            "Iteration 402\n",
            "Iteration 403\n",
            "Iteration 404\n",
            "Iteration 405\n",
            "Iteration 406\n",
            "Iteration 407\n",
            "Iteration 408\n",
            "Iteration 409\n",
            "Iteration 410\n",
            "Iteration 411\n",
            "Iteration 412\n",
            "Iteration 413\n",
            "Iteration 414\n",
            "Iteration 415\n",
            "Iteration 416\n",
            "Iteration 417\n",
            "Iteration 418\n",
            "Iteration 419\n",
            "Iteration 420\n",
            "Iteration 421\n",
            "Iteration 422\n",
            "Iteration 423\n",
            "Iteration 424\n",
            "Iteration 425\n",
            "Iteration 426\n",
            "Iteration 427\n",
            "Iteration 428\n",
            "Iteration 429\n",
            "Iteration 430\n",
            "Iteration 431\n",
            "Iteration 432\n",
            "Iteration 433\n",
            "Iteration 434\n",
            "Iteration 435\n",
            "Iteration 436\n",
            "Iteration 437\n",
            "Iteration 438\n",
            "Iteration 439\n",
            "Iteration 440\n",
            "Iteration 441\n",
            "Iteration 442\n",
            "Iteration 443\n",
            "Iteration 444\n",
            "Iteration 445\n",
            "Iteration 446\n",
            "Iteration 447\n",
            "Iteration 448\n",
            "Iteration 449\n",
            "Iteration 450\n",
            "Iteration 451\n",
            "Iteration 452\n",
            "Iteration 453\n",
            "Iteration 454\n",
            "Iteration 455\n",
            "Iteration 456\n",
            "Iteration 457\n",
            "Iteration 458\n",
            "Iteration 459\n",
            "Iteration 460\n",
            "Iteration 461\n",
            "Iteration 462\n",
            "Iteration 463\n",
            "Iteration 464\n",
            "Iteration 465\n",
            "Iteration 466\n",
            "Iteration 467\n",
            "Iteration 468\n",
            "Iteration 469\n",
            "Iteration 470\n",
            "Iteration 471\n",
            "Iteration 472\n",
            "Iteration 473\n",
            "Iteration 474\n",
            "Iteration 475\n",
            "Iteration 476\n",
            "Iteration 477\n",
            "Iteration 478\n",
            "Iteration 479\n",
            "Iteration 480\n",
            "Iteration 481\n",
            "Iteration 482\n",
            "Iteration 483\n",
            "Iteration 484\n",
            "Iteration 485\n",
            "Iteration 486\n",
            "Iteration 487\n",
            "Iteration 488\n",
            "Iteration 489\n",
            "Iteration 490\n",
            "Iteration 491\n",
            "Iteration 492\n",
            "Iteration 493\n",
            "Iteration 494\n",
            "Iteration 495\n",
            "Iteration 496\n",
            "Iteration 497\n",
            "Iteration 498\n",
            "Iteration 499\n"
          ]
        }
      ],
      "source": [
        "# Training\n",
        "iter_slots = tf.zeros([n])\n",
        "initial_values = tf.constant([R_0, J_0])\n",
        "for i in range(iterations):\n",
        "    print(\"Iteration\", i)\n",
        "    with tf.GradientTape() as tape:\n",
        "        approx_values = tf.scan(lambda prev, _: eulerApproxNext(prev, coefs, h), iter_slots, initializer = initial_values)\n",
        "        error = tf.reduce_sum((approx_values - true_values) ** 2) / (2 * n)\n",
        "    grads = tape.gradient(error, coefs)\n",
        "    coefs.assign_add(-grads * learning_rate)"
      ]
    },
    {
      "cell_type": "code",
      "execution_count": 73,
      "metadata": {
        "colab": {
          "base_uri": "https://localhost:8080/"
        },
        "id": "JkJYgr7FToQW",
        "outputId": "62e76bba-9f23-4905-faa2-8be52a3bad84"
      },
      "outputs": [
        {
          "output_type": "execute_result",
          "data": {
            "text/plain": [
              "<tf.Variable 'Variable:0' shape=(2, 2) dtype=float32, numpy=\n",
              "array([[ 2.877137 ,  1.1490114],\n",
              "       [ 4.4226365, -1.7807196]], dtype=float32)>"
            ]
          },
          "metadata": {},
          "execution_count": 73
        }
      ],
      "source": [
        "coefs"
      ]
    },
    {
      "cell_type": "markdown",
      "source": [
        "## Perfomance Evaluation"
      ],
      "metadata": {
        "id": "es-aqnKGiDPb"
      }
    },
    {
      "cell_type": "code",
      "source": [
        "plt.plot(np.arange(0.001, 1.001, 0.001), data[\"R\"], color = \"blue\", label = \"True\")\n",
        "plt.plot(np.arange(0.001, 1.001, 0.001), approx_values[:, 0], color = \"cyan\", label = \"Predict\")\n",
        "plt.title(\"Romeo's love for Juliet over time\")\n",
        "plt.xlabel(\"Time\")\n",
        "plt.ylabel(\"Love\")\n",
        "plt.legend()"
      ],
      "metadata": {
        "colab": {
          "base_uri": "https://localhost:8080/",
          "height": 312
        },
        "id": "nl1cvbcDWNJ8",
        "outputId": "0fb36f64-9962-44fc-df85-ffd56decd1b2"
      },
      "execution_count": 90,
      "outputs": [
        {
          "output_type": "execute_result",
          "data": {
            "text/plain": [
              "<matplotlib.legend.Legend at 0x7f77c3e49550>"
            ]
          },
          "metadata": {},
          "execution_count": 90
        },
        {
          "output_type": "display_data",
          "data": {
            "text/plain": [
              "<Figure size 432x288 with 1 Axes>"
            ],
            "image/png": "[encoded data removed]"
          },
          "metadata": {
            "needs_background": "light"
          }
        }
      ]
    },
    {
      "cell_type": "code",
      "source": [
        "plt.plot(np.arange(0.001, 1.001, 0.001), data[\"J\"], color = \"red\", label = \"True\")\n",
        "plt.plot(np.arange(0.001, 1.001, 0.001), approx_values[:, 1], color = \"orange\", label = \"Predict\")\n",
        "plt.title(\"Juliet's love for Romeo over time\")\n",
        "plt.xlabel(\"Time\")\n",
        "plt.ylabel(\"Love\")\n",
        "plt.legend()"
      ],
      "metadata": {
        "colab": {
          "base_uri": "https://localhost:8080/",
          "height": 312
        },
        "id": "MerTlDE4amZe",
        "outputId": "d1922671-50fa-49cc-f071-b9019b519f55"
      },
      "execution_count": 94,
      "outputs": [
        {
          "output_type": "execute_result",
          "data": {
            "text/plain": [
              "<matplotlib.legend.Legend at 0x7f77c3c3bcd0>"
            ]
          },
          "metadata": {},
          "execution_count": 94
        },
        {
          "output_type": "display_data",
          "data": {
            "text/plain": [
              "<Figure size 432x288 with 1 Axes>"
            ],
            "image/png": "[encoded data removed]"
          },
          "metadata": {
            "needs_background": "light"
          }
        }
      ]
    }
  ],
  "metadata": {
    "kernelspec": {
      "display_name": "Python 3.10.4 64-bit",
      "language": "python",
      "name": "python3"
    },
    "language_info": {
      "codemirror_mode": {
        "name": "ipython",
        "version": 3
      },
      "file_extension": ".py",
      "mimetype": "text/x-python",
      "name": "python",
      "nbconvert_exporter": "python",
      "pygments_lexer": "ipython3",
      "version": "3.10.4"
    },
    "orig_nbformat": 4,
    "vscode": {
      "interpreter": {
        "hash": "c9da10c7dea96d64f653f65dcdccba1299eb07937a960195edfe5babad6c0569"
      }
    },
    "colab": {
      "provenance": []
    }
  },
  "nbformat": 4,
  "nbformat_minor": 0
}