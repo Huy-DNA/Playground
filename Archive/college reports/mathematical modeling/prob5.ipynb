{
  "cells": [
    {
      "cell_type": "code",
      "execution_count": 1,
      "metadata": {
        "colab": {
          "base_uri": "https://localhost:8080/"
        },
        "id": "ANFLVrWdT4Wg",
        "outputId": "e925f91e-cd7e-4122-d7d6-1b02d16ac164"
      },
      "outputs": [
        {
          "name": "stdout",
          "output_type": "stream",
          "text": [
            "Drive already mounted at /content/drive; to attempt to forcibly remount, call drive.mount(\"/content/drive\", force_remount=True).\n"
          ]
        }
      ],
      "source": [
        "from google.colab import drive\n",
        "drive.mount('/content/drive')"
      ]
    },
    {
      "cell_type": "code",
      "execution_count": 2,
      "metadata": {
        "id": "XVnXW7VgToQJ"
      },
      "outputs": [],
      "source": [
        "import pandas as pd\n",
        "import numpy as np\n",
        "import matplotlib.pyplot as plt\n",
        "import seaborn as sns\n",
        "import tensorflow as tf"
      ]
    },
    {
      "cell_type": "code",
      "execution_count": 3,
      "metadata": {
        "id": "ZcQ45E8CToQN"
      },
      "outputs": [],
      "source": [
        "h = 0.001     # time step\n",
        "R_0 = -2.0    # initial value of R\n",
        "J_0 = 3.0     # initial value of J\n",
        "n = 1000      # number of data points"
      ]
    },
    {
      "cell_type": "markdown",
      "metadata": {
        "id": "Gazj3v56ToQO"
      },
      "source": [
        "## Data import"
      ]
    },
    {
      "cell_type": "code",
      "execution_count": 4,
      "metadata": {
        "colab": {
          "base_uri": "https://localhost:8080/",
          "height": 206
        },
        "id": "vHpMVGfjToQQ",
        "outputId": "272cb165-2e7e-43f5-cda9-62d27d1b56e3"
      },
      "outputs": [
        {
          "data": {
            "text/html": [
              "\n",
              "  <div id=\"df-89ba93a1-4672-45eb-9232-9c37a7d59bac\">\n",
              "    <div class=\"colab-df-container\">\n",
              "      <div>\n",
              "<style scoped>\n",
              "    .dataframe tbody tr th:only-of-type {\n",
              "        vertical-align: middle;\n",
              "    }\n",
              "\n",
              "    .dataframe tbody tr th {\n",
              "        vertical-align: top;\n",
              "    }\n",
              "\n",
              "    .dataframe thead th {\n",
              "        text-align: right;\n",
              "    }\n",
              "</style>\n",
              "<table border=\"1\" class=\"dataframe\">\n",
              "  <thead>\n",
              "    <tr style=\"text-align: right;\">\n",
              "      <th></th>\n",
              "      <th>Step</th>\n",
              "      <th>R</th>\n",
              "      <th>J</th>\n",
              "    </tr>\n",
              "  </thead>\n",
              "  <tbody>\n",
              "    <tr>\n",
              "      <th>0</th>\n",
              "      <td>0</td>\n",
              "      <td>-1,678969244</td>\n",
              "      <td>3,635587444</td>\n",
              "    </tr>\n",
              "    <tr>\n",
              "      <th>1</th>\n",
              "      <td>1</td>\n",
              "      <td>-1,331199653</td>\n",
              "      <td>1,092044203</td>\n",
              "    </tr>\n",
              "    <tr>\n",
              "      <th>2</th>\n",
              "      <td>2</td>\n",
              "      <td>-3,262655098</td>\n",
              "      <td>2,6063602</td>\n",
              "    </tr>\n",
              "    <tr>\n",
              "      <th>3</th>\n",
              "      <td>3</td>\n",
              "      <td>0,7475997113</td>\n",
              "      <td>2,653502669</td>\n",
              "    </tr>\n",
              "    <tr>\n",
              "      <th>4</th>\n",
              "      <td>4</td>\n",
              "      <td>-2,595587134</td>\n",
              "      <td>2,486162931</td>\n",
              "    </tr>\n",
              "  </tbody>\n",
              "</table>\n",
              "</div>\n",
              "      <button class=\"colab-df-convert\" onclick=\"convertToInteractive('df-89ba93a1-4672-45eb-9232-9c37a7d59bac')\"\n",
              "              title=\"Convert this dataframe to an interactive table.\"\n",
              "              style=\"display:none;\">\n",
              "        \n",
              "  <svg xmlns=\"http://www.w3.org/2000/svg\" height=\"24px\"viewBox=\"0 0 24 24\"\n",
              "       width=\"24px\">\n",
              "    <path d=\"M0 0h24v24H0V0z\" fill=\"none\"/>\n",
              "    <path d=\"M18.56 5.44l.94 2.06.94-2.06 2.06-.94-2.06-.94-.94-2.06-.94 2.06-2.06.94zm-11 1L8.5 8.5l.94-2.06 2.06-.94-2.06-.94L8.5 2.5l-.94 2.06-2.06.94zm10 10l.94 2.06.94-2.06 2.06-.94-2.06-.94-.94-2.06-.94 2.06-2.06.94z\"/><path d=\"M17.41 7.96l-1.37-1.37c-.4-.4-.92-.59-1.43-.59-.52 0-1.04.2-1.43.59L10.3 9.45l-7.72 7.72c-.78.78-.78 2.05 0 2.83L4 21.41c.39.39.9.59 1.41.59.51 0 1.02-.2 1.41-.59l7.78-7.78 2.81-2.81c.8-.78.8-2.07 0-2.86zM5.41 20L4 18.59l7.72-7.72 1.47 1.35L5.41 20z\"/>\n",
              "  </svg>\n",
              "      </button>\n",
              "      \n",
              "  <style>\n",
              "    .colab-df-container {\n",
              "      display:flex;\n",
              "      flex-wrap:wrap;\n",
              "      gap: 12px;\n",
              "    }\n",
              "\n",
              "    .colab-df-convert {\n",
              "      background-color: #E8F0FE;\n",
              "      border: none;\n",
              "      border-radius: 50%;\n",
              "      cursor: pointer;\n",
              "      display: none;\n",
              "      fill: #1967D2;\n",
              "      height: 32px;\n",
              "      padding: 0 0 0 0;\n",
              "      width: 32px;\n",
              "    }\n",
              "\n",
              "    .colab-df-convert:hover {\n",
              "      background-color: #E2EBFA;\n",
              "      box-shadow: 0px 1px 2px rgba(60, 64, 67, 0.3), 0px 1px 3px 1px rgba(60, 64, 67, 0.15);\n",
              "      fill: #174EA6;\n",
              "    }\n",
              "\n",
              "    [theme=dark] .colab-df-convert {\n",
              "      background-color: #3B4455;\n",
              "      fill: #D2E3FC;\n",
              "    }\n",
              "\n",
              "    [theme=dark] .colab-df-convert:hover {\n",
              "      background-color: #434B5C;\n",
              "      box-shadow: 0px 1px 3px 1px rgba(0, 0, 0, 0.15);\n",
              "      filter: drop-shadow(0px 1px 2px rgba(0, 0, 0, 0.3));\n",
              "      fill: #FFFFFF;\n",
              "    }\n",
              "  </style>\n",
              "\n",
              "      <script>\n",
              "        const buttonEl =\n",
              "          document.querySelector('#df-89ba93a1-4672-45eb-9232-9c37a7d59bac button.colab-df-convert');\n",
              "        buttonEl.style.display =\n",
              "          google.colab.kernel.accessAllowed ? 'block' : 'none';\n",
              "\n",
              "        async function convertToInteractive(key) {\n",
              "          const element = document.querySelector('#df-89ba93a1-4672-45eb-9232-9c37a7d59bac');\n",
              "          const dataTable =\n",
              "            await google.colab.kernel.invokeFunction('convertToInteractive',\n",
              "                                                     [key], {});\n",
              "          if (!dataTable) return;\n",
              "\n",
              "          const docLinkHtml = 'Like what you see? Visit the ' +\n",
              "            '<a target=\"_blank\" href=https://colab.research.google.com/notebooks/data_table.ipynb>data table notebook</a>'\n",
              "            + ' to learn more about interactive tables.';\n",
              "          element.innerHTML = '';\n",
              "          dataTable['output_type'] = 'display_data';\n",
              "          await google.colab.output.renderOutput(dataTable, element);\n",
              "          const docLink = document.createElement('div');\n",
              "          docLink.innerHTML = docLinkHtml;\n",
              "          element.appendChild(docLink);\n",
              "        }\n",
              "      </script>\n",
              "    </div>\n",
              "  </div>\n",
              "  "
            ],
            "text/plain": [
              "   Step             R            J\n",
              "0     0  -1,678969244  3,635587444\n",
              "1     1  -1,331199653  1,092044203\n",
              "2     2  -3,262655098    2,6063602\n",
              "3     3  0,7475997113  2,653502669\n",
              "4     4  -2,595587134  2,486162931"
            ]
          },
          "execution_count": 4,
          "metadata": {},
          "output_type": "execute_result"
        }
      ],
      "source": [
        "data = pd.read_csv(\"/content/drive/MyDrive/exact.csv\")\n",
        "data.columns = [\"Step\", \"R\", \"J\"]\n",
        "data.head()"
      ]
    },
    {
      "cell_type": "code",
      "execution_count": 5,
      "metadata": {
        "colab": {
          "base_uri": "https://localhost:8080/"
        },
        "id": "ZMBb7RjqToQR",
        "outputId": "ebabe611-0958-438e-a5ce-a2efeb63eb40"
      },
      "outputs": [
        {
          "data": {
            "text/plain": [
              "Step     int64\n",
              "R       object\n",
              "J       object\n",
              "dtype: object"
            ]
          },
          "execution_count": 5,
          "metadata": {},
          "output_type": "execute_result"
        }
      ],
      "source": [
        "data.dtypes"
      ]
    },
    {
      "cell_type": "code",
      "execution_count": 6,
      "metadata": {
        "id": "Vk9ZsLnNToQS"
      },
      "outputs": [],
      "source": [
        "# convert R and J to float\n",
        "data[\"R\"] = data[\"R\"].str.replace(',', '.').astype('float')\n",
        "data[\"J\"] = data[\"J\"].str.replace(',', '.').astype('float')"
      ]
    },
    {
      "cell_type": "code",
      "execution_count": 7,
      "metadata": {
        "id": "MArB-nHQToQS"
      },
      "outputs": [],
      "source": [
        "# adjust the step\n",
        "data[\"Step\"] += 1"
      ]
    },
    {
      "cell_type": "code",
      "execution_count": 8,
      "metadata": {
        "colab": {
          "base_uri": "https://localhost:8080/",
          "height": 363
        },
        "id": "OUaFlA8rToQT",
        "outputId": "990e0acf-e9be-4999-ddcf-1af19874c9b4"
      },
      "outputs": [
        {
          "data": {
            "text/html": [
              "\n",
              "  <div id=\"df-26b63e9c-c68d-4c8e-891c-690864bcf87c\">\n",
              "    <div class=\"colab-df-container\">\n",
              "      <div>\n",
              "<style scoped>\n",
              "    .dataframe tbody tr th:only-of-type {\n",
              "        vertical-align: middle;\n",
              "    }\n",
              "\n",
              "    .dataframe tbody tr th {\n",
              "        vertical-align: top;\n",
              "    }\n",
              "\n",
              "    .dataframe thead th {\n",
              "        text-align: right;\n",
              "    }\n",
              "</style>\n",
              "<table border=\"1\" class=\"dataframe\">\n",
              "  <thead>\n",
              "    <tr style=\"text-align: right;\">\n",
              "      <th></th>\n",
              "      <th>Step</th>\n",
              "      <th>R</th>\n",
              "      <th>J</th>\n",
              "    </tr>\n",
              "  </thead>\n",
              "  <tbody>\n",
              "    <tr>\n",
              "      <th>0</th>\n",
              "      <td>1</td>\n",
              "      <td>-1.678969</td>\n",
              "      <td>3.635587</td>\n",
              "    </tr>\n",
              "    <tr>\n",
              "      <th>1</th>\n",
              "      <td>2</td>\n",
              "      <td>-1.331200</td>\n",
              "      <td>1.092044</td>\n",
              "    </tr>\n",
              "    <tr>\n",
              "      <th>2</th>\n",
              "      <td>3</td>\n",
              "      <td>-3.262655</td>\n",
              "      <td>2.606360</td>\n",
              "    </tr>\n",
              "    <tr>\n",
              "      <th>3</th>\n",
              "      <td>4</td>\n",
              "      <td>0.747600</td>\n",
              "      <td>2.653503</td>\n",
              "    </tr>\n",
              "    <tr>\n",
              "      <th>4</th>\n",
              "      <td>5</td>\n",
              "      <td>-2.595587</td>\n",
              "      <td>2.486163</td>\n",
              "    </tr>\n",
              "    <tr>\n",
              "      <th>5</th>\n",
              "      <td>6</td>\n",
              "      <td>-2.206740</td>\n",
              "      <td>2.309700</td>\n",
              "    </tr>\n",
              "    <tr>\n",
              "      <th>6</th>\n",
              "      <td>7</td>\n",
              "      <td>-1.319781</td>\n",
              "      <td>4.438445</td>\n",
              "    </tr>\n",
              "    <tr>\n",
              "      <th>7</th>\n",
              "      <td>8</td>\n",
              "      <td>-1.789069</td>\n",
              "      <td>3.480226</td>\n",
              "    </tr>\n",
              "    <tr>\n",
              "      <th>8</th>\n",
              "      <td>9</td>\n",
              "      <td>-4.806522</td>\n",
              "      <td>1.821735</td>\n",
              "    </tr>\n",
              "    <tr>\n",
              "      <th>9</th>\n",
              "      <td>10</td>\n",
              "      <td>-1.434671</td>\n",
              "      <td>2.193432</td>\n",
              "    </tr>\n",
              "  </tbody>\n",
              "</table>\n",
              "</div>\n",
              "      <button class=\"colab-df-convert\" onclick=\"convertToInteractive('df-26b63e9c-c68d-4c8e-891c-690864bcf87c')\"\n",
              "              title=\"Convert this dataframe to an interactive table.\"\n",
              "              style=\"display:none;\">\n",
              "        \n",
              "  <svg xmlns=\"http://www.w3.org/2000/svg\" height=\"24px\"viewBox=\"0 0 24 24\"\n",
              "       width=\"24px\">\n",
              "    <path d=\"M0 0h24v24H0V0z\" fill=\"none\"/>\n",
              "    <path d=\"M18.56 5.44l.94 2.06.94-2.06 2.06-.94-2.06-.94-.94-2.06-.94 2.06-2.06.94zm-11 1L8.5 8.5l.94-2.06 2.06-.94-2.06-.94L8.5 2.5l-.94 2.06-2.06.94zm10 10l.94 2.06.94-2.06 2.06-.94-2.06-.94-.94-2.06-.94 2.06-2.06.94z\"/><path d=\"M17.41 7.96l-1.37-1.37c-.4-.4-.92-.59-1.43-.59-.52 0-1.04.2-1.43.59L10.3 9.45l-7.72 7.72c-.78.78-.78 2.05 0 2.83L4 21.41c.39.39.9.59 1.41.59.51 0 1.02-.2 1.41-.59l7.78-7.78 2.81-2.81c.8-.78.8-2.07 0-2.86zM5.41 20L4 18.59l7.72-7.72 1.47 1.35L5.41 20z\"/>\n",
              "  </svg>\n",
              "      </button>\n",
              "      \n",
              "  <style>\n",
              "    .colab-df-container {\n",
              "      display:flex;\n",
              "      flex-wrap:wrap;\n",
              "      gap: 12px;\n",
              "    }\n",
              "\n",
              "    .colab-df-convert {\n",
              "      background-color: #E8F0FE;\n",
              "      border: none;\n",
              "      border-radius: 50%;\n",
              "      cursor: pointer;\n",
              "      display: none;\n",
              "      fill: #1967D2;\n",
              "      height: 32px;\n",
              "      padding: 0 0 0 0;\n",
              "      width: 32px;\n",
              "    }\n",
              "\n",
              "    .colab-df-convert:hover {\n",
              "      background-color: #E2EBFA;\n",
              "      box-shadow: 0px 1px 2px rgba(60, 64, 67, 0.3), 0px 1px 3px 1px rgba(60, 64, 67, 0.15);\n",
              "      fill: #174EA6;\n",
              "    }\n",
              "\n",
              "    [theme=dark] .colab-df-convert {\n",
              "      background-color: #3B4455;\n",
              "      fill: #D2E3FC;\n",
              "    }\n",
              "\n",
              "    [theme=dark] .colab-df-convert:hover {\n",
              "      background-color: #434B5C;\n",
              "      box-shadow: 0px 1px 3px 1px rgba(0, 0, 0, 0.15);\n",
              "      filter: drop-shadow(0px 1px 2px rgba(0, 0, 0, 0.3));\n",
              "      fill: #FFFFFF;\n",
              "    }\n",
              "  </style>\n",
              "\n",
              "      <script>\n",
              "        const buttonEl =\n",
              "          document.querySelector('#df-26b63e9c-c68d-4c8e-891c-690864bcf87c button.colab-df-convert');\n",
              "        buttonEl.style.display =\n",
              "          google.colab.kernel.accessAllowed ? 'block' : 'none';\n",
              "\n",
              "        async function convertToInteractive(key) {\n",
              "          const element = document.querySelector('#df-26b63e9c-c68d-4c8e-891c-690864bcf87c');\n",
              "          const dataTable =\n",
              "            await google.colab.kernel.invokeFunction('convertToInteractive',\n",
              "                                                     [key], {});\n",
              "          if (!dataTable) return;\n",
              "\n",
              "          const docLinkHtml = 'Like what you see? Visit the ' +\n",
              "            '<a target=\"_blank\" href=https://colab.research.google.com/notebooks/data_table.ipynb>data table notebook</a>'\n",
              "            + ' to learn more about interactive tables.';\n",
              "          element.innerHTML = '';\n",
              "          dataTable['output_type'] = 'display_data';\n",
              "          await google.colab.output.renderOutput(dataTable, element);\n",
              "          const docLink = document.createElement('div');\n",
              "          docLink.innerHTML = docLinkHtml;\n",
              "          element.appendChild(docLink);\n",
              "        }\n",
              "      </script>\n",
              "    </div>\n",
              "  </div>\n",
              "  "
            ],
            "text/plain": [
              "   Step         R         J\n",
              "0     1 -1.678969  3.635587\n",
              "1     2 -1.331200  1.092044\n",
              "2     3 -3.262655  2.606360\n",
              "3     4  0.747600  2.653503\n",
              "4     5 -2.595587  2.486163\n",
              "5     6 -2.206740  2.309700\n",
              "6     7 -1.319781  4.438445\n",
              "7     8 -1.789069  3.480226\n",
              "8     9 -4.806522  1.821735\n",
              "9    10 -1.434671  2.193432"
            ]
          },
          "execution_count": 8,
          "metadata": {},
          "output_type": "execute_result"
        }
      ],
      "source": [
        "data.head(10)"
      ]
    },
    {
      "cell_type": "markdown",
      "metadata": {
        "id": "cv2S0VVFToQT"
      },
      "source": [
        "## Data visualization"
      ]
    },
    {
      "cell_type": "code",
      "execution_count": 9,
      "metadata": {
        "colab": {
          "base_uri": "https://localhost:8080/",
          "height": 312
        },
        "id": "SeCFLHbiToQT",
        "outputId": "01e862bb-7025-45a0-bbaf-b19ee0630914"
      },
      "outputs": [
        {
          "data": {
            "text/plain": [
              "Text(0, 0.5, 'Love')"
            ]
          },
          "execution_count": 9,
          "metadata": {},
          "output_type": "execute_result"
        },
        {
          "data": {
            "image/png": "[encoded data removed]",
            "text/plain": [
              "<Figure size 432x288 with 1 Axes>"
            ]
          },
          "metadata": {
            "needs_background": "light"
          },
          "output_type": "display_data"
        }
      ],
      "source": [
        "# Plotting Romeo's love\n",
        "sns.scatterplot(x = data[\"Step\"] * 0.001, y = data[\"R\"])\n",
        "plt.title(\"Romeo's love for Juliet over time\")\n",
        "plt.xlabel(\"Time\")\n",
        "plt.ylabel(\"Love\")"
      ]
    },
    {
      "cell_type": "code",
      "execution_count": 10,
      "metadata": {
        "colab": {
          "base_uri": "https://localhost:8080/",
          "height": 312
        },
        "id": "Ew7lC2dcToQU",
        "outputId": "ba627be2-fee4-46e0-cf37-f96a451751c5"
      },
      "outputs": [
        {
          "data": {
            "text/plain": [
              "Text(0, 0.5, 'Love')"
            ]
          },
          "execution_count": 10,
          "metadata": {},
          "output_type": "execute_result"
        },
        {
          "data": {
            "image/png": "[encoded data removed]",
            "text/plain": [
              "<Figure size 432x288 with 1 Axes>"
            ]
          },
          "metadata": {
            "needs_background": "light"
          },
          "output_type": "display_data"
        }
      ],
      "source": [
        "# Plotting Juliet's love\n",
        "sns.scatterplot(x = data[\"Step\"] * 0.001, y = data[\"J\"], color = \"red\")\n",
        "plt.title(\"Juliet's love for Romeo over time\")\n",
        "plt.xlabel(\"Time\")\n",
        "plt.ylabel(\"Love\")"
      ]
    },
    {
      "cell_type": "markdown",
      "metadata": {
        "id": "tp6NPYEpToQU"
      },
      "source": [
        "## Model building"
      ]
    },
    {
      "cell_type": "code",
      "execution_count": 11,
      "metadata": {
        "id": "00iB27BMToQV"
      },
      "outputs": [],
      "source": [
        "# Convert to true values to tensor\n",
        "true_values = tf.convert_to_tensor(data[[\"R\", \"J\"]], dtype=float)"
      ]
    },
    {
      "cell_type": "code",
      "execution_count": 12,
      "metadata": {
        "colab": {
          "base_uri": "https://localhost:8080/"
        },
        "id": "jjHNROMJToQV",
        "outputId": "91433f6c-6aad-4d65-d00d-b5b240d507d1"
      },
      "outputs": [
        {
          "data": {
            "text/plain": [
              "<tf.Variable 'Variable:0' shape=(2, 2) dtype=float32, numpy=\n",
              "array([[-0.39915758,  2.1044393 ],\n",
              "       [ 0.17107224,  0.54651815]], dtype=float32)>"
            ]
          },
          "execution_count": 12,
          "metadata": {},
          "output_type": "execute_result"
        }
      ],
      "source": [
        "# Variable definition\n",
        "## [[a, b],\n",
        "##  [c, d]]\n",
        "coefs = tf.Variable(tf.random.normal([2, 2], seed = 0))\n",
        "coefs"
      ]
    },
    {
      "cell_type": "code",
      "execution_count": 13,
      "metadata": {
        "id": "2hRag7E0ToQV"
      },
      "outputs": [],
      "source": [
        "# Hyperparameters\n",
        "learning_rate = 0.005\n",
        "iterations = 150"
      ]
    },
    {
      "cell_type": "code",
      "execution_count": 14,
      "metadata": {
        "id": "wOUD4z_eToQV"
      },
      "outputs": [],
      "source": [
        "# Euler method\n",
        "eye = tf.constant([[1, 0], [0, 1]], dtype = float)\n",
        "\n",
        "## prev is a vector of the form [R_n-1, J_n-1]\n",
        "## returns [R_n, J_n]\n",
        "def eulerApproxNext(prev, coefs, h):\n",
        "    return tf.reduce_sum(prev * (coefs * h + eye), 1)"
      ]
    },
    {
      "cell_type": "code",
      "execution_count": 15,
      "metadata": {
        "colab": {
          "base_uri": "https://localhost:8080/"
        },
        "id": "EH67HfteToQW",
        "outputId": "d30d74a4-ceb9-42d0-c331-b72328f255f0"
      },
      "outputs": [
        {
          "name": "stdout",
          "output_type": "stream",
          "text": [
            "Iteration 0\n",
            "   Loss: 323.61346\n",
            "Iteration 1\n",
            "   Loss: 292.9441\n",
            "Iteration 2\n",
            "   Loss: 277.5308\n",
            "Iteration 3\n",
            "   Loss: 267.68604\n",
            "Iteration 4\n",
            "   Loss: 260.62527\n",
            "Iteration 5\n",
            "   Loss: 255.18047\n",
            "Iteration 6\n",
            "   Loss: 250.7626\n",
            "Iteration 7\n",
            "   Loss: 247.03491\n",
            "Iteration 8\n",
            "   Loss: 243.78688\n",
            "Iteration 9\n",
            "   Loss: 240.87996\n",
            "Iteration 10\n",
            "   Loss: 238.21733\n",
            "Iteration 11\n",
            "   Loss: 235.72495\n",
            "Iteration 12\n",
            "   Loss: 233.34889\n",
            "Iteration 13\n",
            "   Loss: 231.03963\n",
            "Iteration 14\n",
            "   Loss: 228.75763\n",
            "Iteration 15\n",
            "   Loss: 226.46602\n",
            "Iteration 16\n",
            "   Loss: 224.1259\n",
            "Iteration 17\n",
            "   Loss: 221.70047\n",
            "Iteration 18\n",
            "   Loss: 219.14624\n",
            "Iteration 19\n",
            "   Loss: 216.41354\n",
            "Iteration 20\n",
            "   Loss: 213.44542\n",
            "Iteration 21\n",
            "   Loss: 210.16635\n",
            "Iteration 22\n",
            "   Loss: 206.48502\n",
            "Iteration 23\n",
            "   Loss: 202.27562\n",
            "Iteration 24\n",
            "   Loss: 197.37247\n",
            "Iteration 25\n",
            "   Loss: 191.53853\n",
            "Iteration 26\n",
            "   Loss: 184.4487\n",
            "Iteration 27\n",
            "   Loss: 175.62407\n",
            "Iteration 28\n",
            "   Loss: 164.36636\n",
            "Iteration 29\n",
            "   Loss: 149.65735\n",
            "Iteration 30\n",
            "   Loss: 130.16933\n",
            "Iteration 31\n",
            "   Loss: 104.659\n",
            "Iteration 32\n",
            "   Loss: 74.36206\n",
            "Iteration 33\n",
            "   Loss: 48.635563\n",
            "Iteration 34\n",
            "   Loss: 39.07118\n",
            "Iteration 35\n",
            "   Loss: 35.20972\n",
            "Iteration 36\n",
            "   Loss: 31.88224\n",
            "Iteration 37\n",
            "   Loss: 29.025078\n",
            "Iteration 38\n",
            "   Loss: 26.577301\n",
            "Iteration 39\n",
            "   Loss: 24.48423\n",
            "Iteration 40\n",
            "   Loss: 22.696476\n",
            "Iteration 41\n",
            "   Loss: 21.16872\n",
            "Iteration 42\n",
            "   Loss: 19.862844\n",
            "Iteration 43\n",
            "   Loss: 18.743793\n",
            "Iteration 44\n",
            "   Loss: 17.782557\n",
            "Iteration 45\n",
            "   Loss: 16.9535\n",
            "Iteration 46\n",
            "   Loss: 16.234894\n",
            "Iteration 47\n",
            "   Loss: 15.608126\n",
            "Iteration 48\n",
            "   Loss: 15.057998\n",
            "Iteration 49\n",
            "   Loss: 14.571375\n",
            "Iteration 50\n",
            "   Loss: 14.137821\n",
            "Iteration 51\n",
            "   Loss: 13.747608\n",
            "Iteration 52\n",
            "   Loss: 13.393935\n",
            "Iteration 53\n",
            "   Loss: 13.070569\n",
            "Iteration 54\n",
            "   Loss: 12.772055\n",
            "Iteration 55\n",
            "   Loss: 12.494702\n",
            "Iteration 56\n",
            "   Loss: 12.234797\n",
            "Iteration 57\n",
            "   Loss: 11.989847\n",
            "Iteration 58\n",
            "   Loss: 11.757402\n",
            "Iteration 59\n",
            "   Loss: 11.53564\n",
            "Iteration 60\n",
            "   Loss: 11.322993\n",
            "Iteration 61\n",
            "   Loss: 11.118264\n",
            "Iteration 62\n",
            "   Loss: 10.920479\n",
            "Iteration 63\n",
            "   Loss: 10.72876\n",
            "Iteration 64\n",
            "   Loss: 10.542513\n",
            "Iteration 65\n",
            "   Loss: 10.36098\n",
            "Iteration 66\n",
            "   Loss: 10.183855\n",
            "Iteration 67\n",
            "   Loss: 10.0109215\n",
            "Iteration 68\n",
            "   Loss: 9.841482\n",
            "Iteration 69\n",
            "   Loss: 9.675554\n",
            "Iteration 70\n",
            "   Loss: 9.512955\n",
            "Iteration 71\n",
            "   Loss: 9.353327\n",
            "Iteration 72\n",
            "   Loss: 9.19655\n",
            "Iteration 73\n",
            "   Loss: 9.042708\n",
            "Iteration 74\n",
            "   Loss: 8.891439\n",
            "Iteration 75\n",
            "   Loss: 8.742684\n",
            "Iteration 76\n",
            "   Loss: 8.59657\n",
            "Iteration 77\n",
            "   Loss: 8.4528675\n",
            "Iteration 78\n",
            "   Loss: 8.311401\n",
            "Iteration 79\n",
            "   Loss: 8.172464\n",
            "Iteration 80\n",
            "   Loss: 8.035653\n",
            "Iteration 81\n",
            "   Loss: 7.9011283\n",
            "Iteration 82\n",
            "   Loss: 7.7688017\n",
            "Iteration 83\n",
            "   Loss: 7.6385365\n",
            "Iteration 84\n",
            "   Loss: 7.5105495\n",
            "Iteration 85\n",
            "   Loss: 7.3845086\n",
            "Iteration 86\n",
            "   Loss: 7.2606006\n",
            "Iteration 87\n",
            "   Loss: 7.1387844\n",
            "Iteration 88\n",
            "   Loss: 7.018922\n",
            "Iteration 89\n",
            "   Loss: 6.901017\n",
            "Iteration 90\n",
            "   Loss: 6.7851515\n",
            "Iteration 91\n",
            "   Loss: 6.6711035\n",
            "Iteration 92\n",
            "   Loss: 6.5590553\n",
            "Iteration 93\n",
            "   Loss: 6.4488735\n",
            "Iteration 94\n",
            "   Loss: 6.340498\n",
            "Iteration 95\n",
            "   Loss: 6.2340584\n",
            "Iteration 96\n",
            "   Loss: 6.129371\n",
            "Iteration 97\n",
            "   Loss: 6.026509\n",
            "Iteration 98\n",
            "   Loss: 5.92545\n",
            "Iteration 99\n",
            "   Loss: 5.8261485\n",
            "Iteration 100\n",
            "   Loss: 5.728678\n",
            "Iteration 101\n",
            "   Loss: 5.632761\n",
            "Iteration 102\n",
            "   Loss: 5.538598\n",
            "Iteration 103\n",
            "   Loss: 5.446149\n",
            "Iteration 104\n",
            "   Loss: 5.3554025\n",
            "Iteration 105\n",
            "   Loss: 5.2662463\n",
            "Iteration 106\n",
            "   Loss: 5.178711\n",
            "Iteration 107\n",
            "   Loss: 5.0928116\n",
            "Iteration 108\n",
            "   Loss: 5.008444\n",
            "Iteration 109\n",
            "   Loss: 4.925676\n",
            "Iteration 110\n",
            "   Loss: 4.844461\n",
            "Iteration 111\n",
            "   Loss: 4.764697\n",
            "Iteration 112\n",
            "   Loss: 4.6864815\n",
            "Iteration 113\n",
            "   Loss: 4.609761\n",
            "Iteration 114\n",
            "   Loss: 4.534525\n",
            "Iteration 115\n",
            "   Loss: 4.4607377\n",
            "Iteration 116\n",
            "   Loss: 4.3883867\n",
            "Iteration 117\n",
            "   Loss: 4.317394\n",
            "Iteration 118\n",
            "   Loss: 4.247821\n",
            "Iteration 119\n",
            "   Loss: 4.1796465\n",
            "Iteration 120\n",
            "   Loss: 4.1128345\n",
            "Iteration 121\n",
            "   Loss: 4.047267\n",
            "Iteration 122\n",
            "   Loss: 3.9831202\n",
            "Iteration 123\n",
            "   Loss: 3.9202046\n",
            "Iteration 124\n",
            "   Loss: 3.8585773\n",
            "Iteration 125\n",
            "   Loss: 3.7982197\n",
            "Iteration 126\n",
            "   Loss: 3.7391238\n",
            "Iteration 127\n",
            "   Loss: 3.6812422\n",
            "Iteration 128\n",
            "   Loss: 3.6245682\n",
            "Iteration 129\n",
            "   Loss: 3.5690858\n",
            "Iteration 130\n",
            "   Loss: 3.5146978\n",
            "Iteration 131\n",
            "   Loss: 3.4615433\n",
            "Iteration 132\n",
            "   Loss: 3.4095325\n",
            "Iteration 133\n",
            "   Loss: 3.358553\n",
            "Iteration 134\n",
            "   Loss: 3.3087466\n",
            "Iteration 135\n",
            "   Loss: 3.2599533\n",
            "Iteration 136\n",
            "   Loss: 3.212307\n",
            "Iteration 137\n",
            "   Loss: 3.165603\n",
            "Iteration 138\n",
            "   Loss: 3.1200032\n",
            "Iteration 139\n",
            "   Loss: 3.0753627\n",
            "Iteration 140\n",
            "   Loss: 3.0317593\n",
            "Iteration 141\n",
            "   Loss: 2.989069\n",
            "Iteration 142\n",
            "   Loss: 2.9473846\n",
            "Iteration 143\n",
            "   Loss: 2.906581\n",
            "Iteration 144\n",
            "   Loss: 2.8667736\n",
            "Iteration 145\n",
            "   Loss: 2.8277898\n",
            "Iteration 146\n",
            "   Loss: 2.7897718\n",
            "Iteration 147\n",
            "   Loss: 2.7525728\n",
            "Iteration 148\n",
            "   Loss: 2.716275\n",
            "Iteration 149\n",
            "   Loss: 2.6808026\n"
          ]
        }
      ],
      "source": [
        "# Training\n",
        "iter_slots = tf.zeros([n])\n",
        "initial_values = tf.constant([R_0, J_0])\n",
        "for i in range(iterations):\n",
        "    print(\"Iteration\", i)\n",
        "    with tf.GradientTape() as tape:\n",
        "        approx_values = tf.scan(lambda prev, _: eulerApproxNext(prev, coefs, h), iter_slots, initializer = initial_values)\n",
        "        error = tf.reduce_sum((approx_values - true_values) ** 2) / (2 * n)\n",
        "    grads = tape.gradient(error, coefs)\n",
        "    coefs.assign_add(-grads * learning_rate)\n",
        "    print(\"   Loss:\", error.numpy())"
      ]
    },
    {
      "cell_type": "code",
      "execution_count": 16,
      "metadata": {
        "colab": {
          "base_uri": "https://localhost:8080/"
        },
        "id": "JkJYgr7FToQW",
        "outputId": "a76d399d-51c0-44c5-d0cb-e85eb9d98f7f"
      },
      "outputs": [
        {
          "data": {
            "text/plain": [
              "<tf.Variable 'Variable:0' shape=(2, 2) dtype=float32, numpy=\n",
              "array([[ 2.947692 ,  1.6607691],\n",
              "       [ 3.5967438, -0.3979798]], dtype=float32)>"
            ]
          },
          "execution_count": 16,
          "metadata": {},
          "output_type": "execute_result"
        }
      ],
      "source": [
        "coefs"
      ]
    },
    {
      "cell_type": "markdown",
      "metadata": {
        "id": "es-aqnKGiDPb"
      },
      "source": [
        "## Perfomance Evaluation"
      ]
    },
    {
      "cell_type": "code",
      "execution_count": 19,
      "metadata": {
        "colab": {
          "base_uri": "https://localhost:8080/",
          "height": 312
        },
        "id": "nl1cvbcDWNJ8",
        "outputId": "b24183ef-5eae-423a-82c8-6b34fcb10335"
      },
      "outputs": [
        {
          "data": {
            "text/plain": [
              "<matplotlib.legend.Legend at 0x7f1a7a3ac110>"
            ]
          },
          "execution_count": 19,
          "metadata": {},
          "output_type": "execute_result"
        },
        {
          "data": {
            "image/png": "[encoded data removed]",
            "text/plain": [
              "<Figure size 432x288 with 1 Axes>"
            ]
          },
          "metadata": {
            "needs_background": "light"
          },
          "output_type": "display_data"
        }
      ],
      "source": [
        "plt.plot(np.arange(0.001, 1.001, 0.001), data[\"R\"], color = \"blue\", label = \"True\")\n",
        "plt.plot(np.arange(0.001, 1.001, 0.001), approx_values[:, 0], color = \"cyan\", label = \"Predict\")\n",
        "plt.title(\"Romeo's love for Juliet over time\")\n",
        "plt.xlabel(\"Time\")\n",
        "plt.ylabel(\"Love\")\n",
        "plt.legend()"
      ]
    },
    {
      "cell_type": "code",
      "execution_count": 20,
      "metadata": {
        "colab": {
          "base_uri": "https://localhost:8080/",
          "height": 312
        },
        "id": "MerTlDE4amZe",
        "outputId": "9e0bce08-b516-49d9-9de1-5441aef1db5b"
      },
      "outputs": [
        {
          "data": {
            "text/plain": [
              "<matplotlib.legend.Legend at 0x7f1a7a2affd0>"
            ]
          },
          "execution_count": 20,
          "metadata": {},
          "output_type": "execute_result"
        },
        {
          "data": {
            "image/png": "[encoded data removed]",
            "text/plain": [
              "<Figure size 432x288 with 1 Axes>"
            ]
          },
          "metadata": {
            "needs_background": "light"
          },
          "output_type": "display_data"
        }
      ],
      "source": [
        "plt.plot(np.arange(0.001, 1.001, 0.001), data[\"J\"], color = \"red\", label = \"True\")\n",
        "plt.plot(np.arange(0.001, 1.001, 0.001), approx_values[:, 1], color = \"orange\", label = \"Predict\")\n",
        "plt.title(\"Juliet's love for Romeo over time\")\n",
        "plt.xlabel(\"Time\")\n",
        "plt.ylabel(\"Love\")\n",
        "plt.legend()"
      ]
    },
    {
      "cell_type": "code",
      "execution_count": null,
      "metadata": {
        "id": "TqaVgKKWXhU3"
      },
      "outputs": [],
      "source": []
    }
  ],
  "metadata": {
    "accelerator": "GPU",
    "colab": {
      "provenance": []
    },
    "gpuClass": "standard",
    "kernelspec": {
      "display_name": "Python 3.10.4 64-bit",
      "language": "python",
      "name": "python3"
    },
    "language_info": {
      "codemirror_mode": {
        "name": "ipython",
        "version": 3
      },
      "file_extension": ".py",
      "mimetype": "text/x-python",
      "name": "python",
      "nbconvert_exporter": "python",
      "pygments_lexer": "ipython3",
      "version": "3.10.4"
    },
    "orig_nbformat": 4,
    "vscode": {
      "interpreter": {
        "hash": "c9da10c7dea96d64f653f65dcdccba1299eb07937a960195edfe5babad6c0569"
      }
    }
  },
  "nbformat": 4,
  "nbformat_minor": 0
}
