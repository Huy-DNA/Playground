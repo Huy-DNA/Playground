{
 "cells": [
  {
   "cell_type": "markdown",
   "metadata": {},
   "source": [
    "# For loop simulation"
   ]
  },
  {
   "cell_type": "markdown",
   "metadata": {},
   "source": [
    "## Basic example"
   ]
  },
  {
   "cell_type": "code",
   "execution_count": 1,
   "metadata": {},
   "outputs": [],
   "source": [
    "def f1_norm(num):\n",
    "    print(f\"f1 called: {num}\")\n",
    "\n",
    "def f2_norm(num):\n",
    "    print(f\"f2 called: {num}\")"
   ]
  },
  {
   "cell_type": "markdown",
   "metadata": {},
   "source": [
    "### Code with For loop:\n",
    "```\n",
    "    for <variable> in <iterable>:\n",
    "        <code-1>\n",
    "    else:\n",
    "        <code-2>\n",
    "```"
   ]
  },
  {
   "cell_type": "code",
   "execution_count": 2,
   "metadata": {},
   "outputs": [
    {
     "name": "stdout",
     "output_type": "stream",
     "text": [
      "f1 called: 0\n",
      "f1 called: 1\n",
      "f1 called: 2\n",
      "f1 called: 3\n",
      "f1 called: 4\n",
      "f2 called: 5\n"
     ]
    }
   ],
   "source": [
    "def for_f(f1, f2):\n",
    "    for var in range(5):\n",
    "        f1(var)\n",
    "    else:\n",
    "        f2(var + 1)\n",
    "\n",
    "for_f(f1_norm, f2_norm)"
   ]
  },
  {
   "cell_type": "markdown",
   "metadata": {},
   "source": [
    "### Equivalent Code without For loop:\n",
    "```\n",
    "    <anonymous iterator> = iter(<iterable>)\n",
    "    while True:\n",
    "        try:\n",
    "            <variable> = next(<anonymous iterator>)\n",
    "        except StopIteration:\n",
    "            <code-2>\n",
    "            break\n",
    "        <code-1>\n",
    "```"
   ]
  },
  {
   "cell_type": "code",
   "execution_count": 10,
   "metadata": {},
   "outputs": [
    {
     "name": "stdout",
     "output_type": "stream",
     "text": [
      "f1 called: 0\n",
      "f1 called: 1\n",
      "f1 called: 2\n",
      "f1 called: 3\n",
      "f1 called: 4\n",
      "f2 called: 5\n"
     ]
    }
   ],
   "source": [
    "def nonfor_f(f1, f2):\n",
    "    __anonym__iter__ = iter(range(5))\n",
    "    while True:\n",
    "        # At first I wrapped the while loop in the try except block\n",
    "        # And the loop didn't throw if f1 threw StopIteration which isn't the correct behaviour  \n",
    "        try:\n",
    "            var = next(__anonym__iter__)\n",
    "        except StopIteration:\n",
    "            f2(var + 1)\n",
    "            break\n",
    "        f1(var)\n",
    "\n",
    "nonfor_f(f1_norm, f2_norm)"
   ]
  },
  {
   "cell_type": "markdown",
   "metadata": {},
   "source": [
    "## Example where ```<code-1>``` throws normal Exception"
   ]
  },
  {
   "cell_type": "code",
   "execution_count": 4,
   "metadata": {},
   "outputs": [],
   "source": [
    "def f1_throw(var):\n",
    "    print(f'f1 called: {var}')\n",
    "    if var == 4:\n",
    "        raise Exception(\"f1 throw\")"
   ]
  },
  {
   "cell_type": "markdown",
   "metadata": {},
   "source": [
    "### Code with For loop"
   ]
  },
  {
   "cell_type": "code",
   "execution_count": 5,
   "metadata": {},
   "outputs": [
    {
     "name": "stdout",
     "output_type": "stream",
     "text": [
      "f1 called: 0\n",
      "f1 called: 1\n",
      "f1 called: 2\n",
      "f1 called: 3\n",
      "f1 called: 4\n"
     ]
    },
    {
     "ename": "Exception",
     "evalue": "f1 throw",
     "output_type": "error",
     "traceback": [
      "\u001b[1;31m---------------------------------------------------------------------------\u001b[0m",
      "\u001b[1;31mException\u001b[0m                                 Traceback (most recent call last)",
      "\u001b[1;32md:\\Git Repos\\Playground\\Simulation\\Python\\forLoop_simul\\forLoop_simul.ipynb Cell 11\u001b[0m in \u001b[0;36m<module>\u001b[1;34m\u001b[0m\n\u001b[1;32m----> <a href='vscode-notebook-cell:/d%3A/Git%20Repos/Playground/Simulation/Python/forLoop_simul/forLoop_simul.ipynb#ch0000010?line=0'>1</a>\u001b[0m for_f(f1_throw, f2_norm)\n",
      "\u001b[1;32md:\\Git Repos\\Playground\\Simulation\\Python\\forLoop_simul\\forLoop_simul.ipynb Cell 11\u001b[0m in \u001b[0;36mfor_f\u001b[1;34m(f1, f2)\u001b[0m\n\u001b[0;32m      <a href='vscode-notebook-cell:/d%3A/Git%20Repos/Playground/Simulation/Python/forLoop_simul/forLoop_simul.ipynb#ch0000010?line=0'>1</a>\u001b[0m \u001b[39mdef\u001b[39;00m \u001b[39mfor_f\u001b[39m(f1, f2):\n\u001b[0;32m      <a href='vscode-notebook-cell:/d%3A/Git%20Repos/Playground/Simulation/Python/forLoop_simul/forLoop_simul.ipynb#ch0000010?line=1'>2</a>\u001b[0m     \u001b[39mfor\u001b[39;00m var \u001b[39min\u001b[39;00m \u001b[39mrange\u001b[39m(\u001b[39m5\u001b[39m):\n\u001b[1;32m----> <a href='vscode-notebook-cell:/d%3A/Git%20Repos/Playground/Simulation/Python/forLoop_simul/forLoop_simul.ipynb#ch0000010?line=2'>3</a>\u001b[0m         f1(var)\n\u001b[0;32m      <a href='vscode-notebook-cell:/d%3A/Git%20Repos/Playground/Simulation/Python/forLoop_simul/forLoop_simul.ipynb#ch0000010?line=3'>4</a>\u001b[0m     \u001b[39melse\u001b[39;00m:\n\u001b[0;32m      <a href='vscode-notebook-cell:/d%3A/Git%20Repos/Playground/Simulation/Python/forLoop_simul/forLoop_simul.ipynb#ch0000010?line=4'>5</a>\u001b[0m         f2(var \u001b[39m+\u001b[39m \u001b[39m1\u001b[39m)\n",
      "\u001b[1;32md:\\Git Repos\\Playground\\Simulation\\Python\\forLoop_simul\\forLoop_simul.ipynb Cell 11\u001b[0m in \u001b[0;36mf1_throw\u001b[1;34m(var)\u001b[0m\n\u001b[0;32m      <a href='vscode-notebook-cell:/d%3A/Git%20Repos/Playground/Simulation/Python/forLoop_simul/forLoop_simul.ipynb#ch0000010?line=1'>2</a>\u001b[0m \u001b[39mprint\u001b[39m(\u001b[39mf\u001b[39m\u001b[39m'\u001b[39m\u001b[39mf1 called: \u001b[39m\u001b[39m{\u001b[39;00mvar\u001b[39m}\u001b[39;00m\u001b[39m'\u001b[39m)\n\u001b[0;32m      <a href='vscode-notebook-cell:/d%3A/Git%20Repos/Playground/Simulation/Python/forLoop_simul/forLoop_simul.ipynb#ch0000010?line=2'>3</a>\u001b[0m \u001b[39mif\u001b[39;00m var \u001b[39m==\u001b[39m \u001b[39m4\u001b[39m:\n\u001b[1;32m----> <a href='vscode-notebook-cell:/d%3A/Git%20Repos/Playground/Simulation/Python/forLoop_simul/forLoop_simul.ipynb#ch0000010?line=3'>4</a>\u001b[0m     \u001b[39mraise\u001b[39;00m \u001b[39mException\u001b[39;00m(\u001b[39m\"\u001b[39m\u001b[39mf1 throw\u001b[39m\u001b[39m\"\u001b[39m)\n",
      "\u001b[1;31mException\u001b[0m: f1 throw"
     ]
    }
   ],
   "source": [
    "for_f(f1_throw, f2_norm)"
   ]
  },
  {
   "cell_type": "markdown",
   "metadata": {},
   "source": [
    "### Equivalent Code without For loop"
   ]
  },
  {
   "cell_type": "code",
   "execution_count": 6,
   "metadata": {},
   "outputs": [
    {
     "name": "stdout",
     "output_type": "stream",
     "text": [
      "f1 called: 0\n",
      "f1 called: 1\n",
      "f1 called: 2\n",
      "f1 called: 3\n",
      "f1 called: 4\n"
     ]
    },
    {
     "ename": "Exception",
     "evalue": "f1 throw",
     "output_type": "error",
     "traceback": [
      "\u001b[1;31m---------------------------------------------------------------------------\u001b[0m",
      "\u001b[1;31mException\u001b[0m                                 Traceback (most recent call last)",
      "\u001b[1;32md:\\Git Repos\\Playground\\Simulation\\Python\\forLoop_simul\\forLoop_simul.ipynb Cell 13\u001b[0m in \u001b[0;36m<module>\u001b[1;34m\u001b[0m\n\u001b[1;32m----> <a href='vscode-notebook-cell:/d%3A/Git%20Repos/Playground/Simulation/Python/forLoop_simul/forLoop_simul.ipynb#ch0000012?line=0'>1</a>\u001b[0m nonfor_f(f1_throw, f2_norm)\n",
      "\u001b[1;32md:\\Git Repos\\Playground\\Simulation\\Python\\forLoop_simul\\forLoop_simul.ipynb Cell 13\u001b[0m in \u001b[0;36mnonfor_f\u001b[1;34m(f1, f2)\u001b[0m\n\u001b[0;32m      <a href='vscode-notebook-cell:/d%3A/Git%20Repos/Playground/Simulation/Python/forLoop_simul/forLoop_simul.ipynb#ch0000012?line=6'>7</a>\u001b[0m     f2(var \u001b[39m+\u001b[39m \u001b[39m1\u001b[39m)\n\u001b[0;32m      <a href='vscode-notebook-cell:/d%3A/Git%20Repos/Playground/Simulation/Python/forLoop_simul/forLoop_simul.ipynb#ch0000012?line=7'>8</a>\u001b[0m     \u001b[39mbreak\u001b[39;00m\n\u001b[1;32m----> <a href='vscode-notebook-cell:/d%3A/Git%20Repos/Playground/Simulation/Python/forLoop_simul/forLoop_simul.ipynb#ch0000012?line=8'>9</a>\u001b[0m f1(var)\n",
      "\u001b[1;32md:\\Git Repos\\Playground\\Simulation\\Python\\forLoop_simul\\forLoop_simul.ipynb Cell 13\u001b[0m in \u001b[0;36mf1_throw\u001b[1;34m(var)\u001b[0m\n\u001b[0;32m      <a href='vscode-notebook-cell:/d%3A/Git%20Repos/Playground/Simulation/Python/forLoop_simul/forLoop_simul.ipynb#ch0000012?line=1'>2</a>\u001b[0m \u001b[39mprint\u001b[39m(\u001b[39mf\u001b[39m\u001b[39m'\u001b[39m\u001b[39mf1 called: \u001b[39m\u001b[39m{\u001b[39;00mvar\u001b[39m}\u001b[39;00m\u001b[39m'\u001b[39m)\n\u001b[0;32m      <a href='vscode-notebook-cell:/d%3A/Git%20Repos/Playground/Simulation/Python/forLoop_simul/forLoop_simul.ipynb#ch0000012?line=2'>3</a>\u001b[0m \u001b[39mif\u001b[39;00m var \u001b[39m==\u001b[39m \u001b[39m4\u001b[39m:\n\u001b[1;32m----> <a href='vscode-notebook-cell:/d%3A/Git%20Repos/Playground/Simulation/Python/forLoop_simul/forLoop_simul.ipynb#ch0000012?line=3'>4</a>\u001b[0m     \u001b[39mraise\u001b[39;00m \u001b[39mException\u001b[39;00m(\u001b[39m\"\u001b[39m\u001b[39mf1 throw\u001b[39m\u001b[39m\"\u001b[39m)\n",
      "\u001b[1;31mException\u001b[0m: f1 throw"
     ]
    }
   ],
   "source": [
    "nonfor_f(f1_throw, f2_norm)"
   ]
  },
  {
   "cell_type": "markdown",
   "metadata": {},
   "source": [
    "## Example where ```<code-1>``` throws normal StopIteration"
   ]
  },
  {
   "cell_type": "code",
   "execution_count": 7,
   "metadata": {},
   "outputs": [],
   "source": [
    "def f1_stpiter(var):\n",
    "    print(f'f1 called: {var}')\n",
    "    if (var == 4):\n",
    "        raise StopIteration(\"f1 throw\")"
   ]
  },
  {
   "cell_type": "markdown",
   "metadata": {},
   "source": [
    "### Code in For loop"
   ]
  },
  {
   "cell_type": "code",
   "execution_count": 8,
   "metadata": {},
   "outputs": [
    {
     "name": "stdout",
     "output_type": "stream",
     "text": [
      "f1 called: 0\n",
      "f1 called: 1\n",
      "f1 called: 2\n",
      "f1 called: 3\n",
      "f1 called: 4\n"
     ]
    },
    {
     "ename": "StopIteration",
     "evalue": "f1 throw",
     "output_type": "error",
     "traceback": [
      "\u001b[1;31m---------------------------------------------------------------------------\u001b[0m",
      "\u001b[1;31mStopIteration\u001b[0m                             Traceback (most recent call last)",
      "\u001b[1;32md:\\Git Repos\\Playground\\Simulation\\Python\\forLoop_simul\\forLoop_simul.ipynb Cell 17\u001b[0m in \u001b[0;36m<module>\u001b[1;34m\u001b[0m\n\u001b[1;32m----> <a href='vscode-notebook-cell:/d%3A/Git%20Repos/Playground/Simulation/Python/forLoop_simul/forLoop_simul.ipynb#ch0000016?line=0'>1</a>\u001b[0m for_f(f1_stpiter, f2_norm)\n",
      "\u001b[1;32md:\\Git Repos\\Playground\\Simulation\\Python\\forLoop_simul\\forLoop_simul.ipynb Cell 17\u001b[0m in \u001b[0;36mfor_f\u001b[1;34m(f1, f2)\u001b[0m\n\u001b[0;32m      <a href='vscode-notebook-cell:/d%3A/Git%20Repos/Playground/Simulation/Python/forLoop_simul/forLoop_simul.ipynb#ch0000016?line=0'>1</a>\u001b[0m \u001b[39mdef\u001b[39;00m \u001b[39mfor_f\u001b[39m(f1, f2):\n\u001b[0;32m      <a href='vscode-notebook-cell:/d%3A/Git%20Repos/Playground/Simulation/Python/forLoop_simul/forLoop_simul.ipynb#ch0000016?line=1'>2</a>\u001b[0m     \u001b[39mfor\u001b[39;00m var \u001b[39min\u001b[39;00m \u001b[39mrange\u001b[39m(\u001b[39m5\u001b[39m):\n\u001b[1;32m----> <a href='vscode-notebook-cell:/d%3A/Git%20Repos/Playground/Simulation/Python/forLoop_simul/forLoop_simul.ipynb#ch0000016?line=2'>3</a>\u001b[0m         f1(var)\n\u001b[0;32m      <a href='vscode-notebook-cell:/d%3A/Git%20Repos/Playground/Simulation/Python/forLoop_simul/forLoop_simul.ipynb#ch0000016?line=3'>4</a>\u001b[0m     \u001b[39melse\u001b[39;00m:\n\u001b[0;32m      <a href='vscode-notebook-cell:/d%3A/Git%20Repos/Playground/Simulation/Python/forLoop_simul/forLoop_simul.ipynb#ch0000016?line=4'>5</a>\u001b[0m         f2(var \u001b[39m+\u001b[39m \u001b[39m1\u001b[39m)\n",
      "\u001b[1;32md:\\Git Repos\\Playground\\Simulation\\Python\\forLoop_simul\\forLoop_simul.ipynb Cell 17\u001b[0m in \u001b[0;36mf1_stpiter\u001b[1;34m(var)\u001b[0m\n\u001b[0;32m      <a href='vscode-notebook-cell:/d%3A/Git%20Repos/Playground/Simulation/Python/forLoop_simul/forLoop_simul.ipynb#ch0000016?line=1'>2</a>\u001b[0m \u001b[39mprint\u001b[39m(\u001b[39mf\u001b[39m\u001b[39m'\u001b[39m\u001b[39mf1 called: \u001b[39m\u001b[39m{\u001b[39;00mvar\u001b[39m}\u001b[39;00m\u001b[39m'\u001b[39m)\n\u001b[0;32m      <a href='vscode-notebook-cell:/d%3A/Git%20Repos/Playground/Simulation/Python/forLoop_simul/forLoop_simul.ipynb#ch0000016?line=2'>3</a>\u001b[0m \u001b[39mif\u001b[39;00m (var \u001b[39m==\u001b[39m \u001b[39m4\u001b[39m):\n\u001b[1;32m----> <a href='vscode-notebook-cell:/d%3A/Git%20Repos/Playground/Simulation/Python/forLoop_simul/forLoop_simul.ipynb#ch0000016?line=3'>4</a>\u001b[0m     \u001b[39mraise\u001b[39;00m \u001b[39mStopIteration\u001b[39;00m(\u001b[39m\"\u001b[39m\u001b[39mf1 throw\u001b[39m\u001b[39m\"\u001b[39m)\n",
      "\u001b[1;31mStopIteration\u001b[0m: f1 throw"
     ]
    }
   ],
   "source": [
    "for_f(f1_stpiter, f2_norm)"
   ]
  },
  {
   "cell_type": "markdown",
   "metadata": {},
   "source": [
    "### Equivalent Code without For loop"
   ]
  },
  {
   "cell_type": "code",
   "execution_count": 9,
   "metadata": {},
   "outputs": [
    {
     "name": "stdout",
     "output_type": "stream",
     "text": [
      "f1 called: 0\n",
      "f1 called: 1\n",
      "f1 called: 2\n",
      "f1 called: 3\n",
      "f1 called: 4\n"
     ]
    },
    {
     "ename": "StopIteration",
     "evalue": "f1 throw",
     "output_type": "error",
     "traceback": [
      "\u001b[1;31m---------------------------------------------------------------------------\u001b[0m",
      "\u001b[1;31mStopIteration\u001b[0m                             Traceback (most recent call last)",
      "\u001b[1;32md:\\Git Repos\\Playground\\Simulation\\Python\\forLoop_simul\\forLoop_simul.ipynb Cell 19\u001b[0m in \u001b[0;36m<module>\u001b[1;34m\u001b[0m\n\u001b[1;32m----> <a href='vscode-notebook-cell:/d%3A/Git%20Repos/Playground/Simulation/Python/forLoop_simul/forLoop_simul.ipynb#ch0000018?line=0'>1</a>\u001b[0m nonfor_f(f1_stpiter, f2_norm)\n",
      "\u001b[1;32md:\\Git Repos\\Playground\\Simulation\\Python\\forLoop_simul\\forLoop_simul.ipynb Cell 19\u001b[0m in \u001b[0;36mnonfor_f\u001b[1;34m(f1, f2)\u001b[0m\n\u001b[0;32m      <a href='vscode-notebook-cell:/d%3A/Git%20Repos/Playground/Simulation/Python/forLoop_simul/forLoop_simul.ipynb#ch0000018?line=6'>7</a>\u001b[0m     f2(var \u001b[39m+\u001b[39m \u001b[39m1\u001b[39m)\n\u001b[0;32m      <a href='vscode-notebook-cell:/d%3A/Git%20Repos/Playground/Simulation/Python/forLoop_simul/forLoop_simul.ipynb#ch0000018?line=7'>8</a>\u001b[0m     \u001b[39mbreak\u001b[39;00m\n\u001b[1;32m----> <a href='vscode-notebook-cell:/d%3A/Git%20Repos/Playground/Simulation/Python/forLoop_simul/forLoop_simul.ipynb#ch0000018?line=8'>9</a>\u001b[0m f1(var)\n",
      "\u001b[1;32md:\\Git Repos\\Playground\\Simulation\\Python\\forLoop_simul\\forLoop_simul.ipynb Cell 19\u001b[0m in \u001b[0;36mf1_stpiter\u001b[1;34m(var)\u001b[0m\n\u001b[0;32m      <a href='vscode-notebook-cell:/d%3A/Git%20Repos/Playground/Simulation/Python/forLoop_simul/forLoop_simul.ipynb#ch0000018?line=1'>2</a>\u001b[0m \u001b[39mprint\u001b[39m(\u001b[39mf\u001b[39m\u001b[39m'\u001b[39m\u001b[39mf1 called: \u001b[39m\u001b[39m{\u001b[39;00mvar\u001b[39m}\u001b[39;00m\u001b[39m'\u001b[39m)\n\u001b[0;32m      <a href='vscode-notebook-cell:/d%3A/Git%20Repos/Playground/Simulation/Python/forLoop_simul/forLoop_simul.ipynb#ch0000018?line=2'>3</a>\u001b[0m \u001b[39mif\u001b[39;00m (var \u001b[39m==\u001b[39m \u001b[39m4\u001b[39m):\n\u001b[1;32m----> <a href='vscode-notebook-cell:/d%3A/Git%20Repos/Playground/Simulation/Python/forLoop_simul/forLoop_simul.ipynb#ch0000018?line=3'>4</a>\u001b[0m     \u001b[39mraise\u001b[39;00m \u001b[39mStopIteration\u001b[39;00m(\u001b[39m\"\u001b[39m\u001b[39mf1 throw\u001b[39m\u001b[39m\"\u001b[39m)\n",
      "\u001b[1;31mStopIteration\u001b[0m: f1 throw"
     ]
    }
   ],
   "source": [
    "nonfor_f(f1_stpiter, f2_norm)"
   ]
  }
 ],
 "metadata": {
  "kernelspec": {
   "display_name": "Python 3.10.4 64-bit",
   "language": "python",
   "name": "python3"
  },
  "language_info": {
   "codemirror_mode": {
    "name": "ipython",
    "version": 3
   },
   "file_extension": ".py",
   "mimetype": "text/x-python",
   "name": "python",
   "nbconvert_exporter": "python",
   "pygments_lexer": "ipython3",
   "version": "3.10.4"
  },
  "orig_nbformat": 4,
  "vscode": {
   "interpreter": {
    "hash": "c9da10c7dea96d64f653f65dcdccba1299eb07937a960195edfe5babad6c0569"
   }
  }
 },
 "nbformat": 4,
 "nbformat_minor": 2
}
